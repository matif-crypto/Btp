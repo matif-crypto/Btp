{
  "nbformat": 4,
  "nbformat_minor": 0,
  "metadata": {
    "colab": {
      "provenance": [],
      "collapsed_sections": [],
      "toc_visible": true
    },
    "kernelspec": {
      "name": "python3",
      "display_name": "Python 3"
    },
    "language_info": {
      "name": "python"
    },
    "accelerator": "GPU",
    "gpuClass": "standard"
  },
  "cells": [
    {
      "cell_type": "markdown",
      "source": [
        "# Initial preprocesig and modelling"
      ],
      "metadata": {
        "id": "4KtOtRg6aQpr"
      }
    },
    {
      "cell_type": "markdown",
      "source": [
        "# New Section"
      ],
      "metadata": {
        "id": "DUS6D71DRuUv"
      }
    },
    {
      "cell_type": "code",
      "execution_count": null,
      "metadata": {
        "id": "UB2ViCuATS6m"
      },
      "outputs": [],
      "source": [
        "import re\n",
        "import pandas as pd\n",
        "import pickle\n",
        "import numpy as np\n",
        "import warnings\n",
        "warnings.filterwarnings('ignore')\n",
        "pd.set_option('display.max_rows', 100)"
      ]
    },
    {
      "cell_type": "code",
      "source": [
        "def data_prep(spe):\n",
        " print(\"Reading dataset: \", spe)\n",
        " qi = open(\"/content/drive/MyDrive/BTP/\" + spe + \"_res.fold\" , \"r\")\n",
        " text = qi.read()\n",
        " qi.close()\n",
        "\n",
        " print(\"\\nCalculating features...\\n\")\n",
        " matchA = re.findall(\"[(.][.)(]+[.)]\", str(text))\n",
        " matchB = re.findall(r\"^[AUGC]{10,}\", str(text), flags=re.MULTILINE)\n",
        " df02 = pd.DataFrame(matchA, matchB)\n",
        " df02 = df02.reset_index()\n",
        " df02.columns = [\"sequence\", \"fold\"]\n",
        " s2 = pd.read_csv(\"/content/drive/MyDrive/BTP/\" + spe + \"_stats.csv\", sep='\\t')\n",
        " s2 = s2.fillna(0)\n",
        " s2 = s2.iloc[:, :-1]\n",
        " scon = pd.concat([s2], axis=1)\n",
        " scon = scon[pd.to_numeric(scon.iloc[:, 0], errors='coerce').notnull()]\n",
        " scon = scon.astype(float)\n",
        " scon = pd.concat([scon, df02], axis=1)\n",
        " scon.rename(columns={\"Nmfe\": \"dG\"}, inplace=True)\n",
        " scon[\"stem\"] = scon[\"fold\"].str.extract('(\\(.*\\))')\n",
        " scon[\"nstem\"] = scon[\"stem\"].apply(len)\n",
        " scon[\"stemte\"] = scon[\"fold\"].str.findall('(\\(\\.+\\))')\n",
        " scon[\"nstemte\"] = scon[\"stemte\"].apply(len)\n",
        " scon[\"stemte\"] = scon[\"fold\"].str.extract('(\\(\\.+\\))')\n",
        " scon[\"lenstemte\"] = scon[\"stemte\"].apply(len)\n",
        "\n",
        " scon[\"MFE1\"] = scon[\"dG\"] / scon[\"%G+C\"]\n",
        " scon[\"stem0\"] = scon[\"fold\"].str.findall('(\\({3,})')\n",
        " scon[\"n_stems\"] = scon[\"stem0\"].apply(len)\n",
        " scon[\"stem1\"] = scon[\"fold\"].str.findall('(\\()')\n",
        " scon[\"total_base\"] = scon[\"stem1\"].apply(len)\n",
        " scon[\"MFE2\"] = scon[\"dG\"] / scon[\"n_stems\"]\n",
        " scon[\"MFE3\"] = scon[\"dG\"] / scon[\"nstemte\"]\n",
        " scon[\"MFE4\"] = scon[\"dG\"] / scon[\"total_base\"]\n",
        " scon[\"avg_bp\"] = scon[\"total_base\"] / scon[\"n_stems\"]\n",
        "\n",
        " scon1 = scon[\n",
        "  [\"Len\", \"A\", \"C\", \"G\", \"U\", \"G+C\", \"A+U\", \"AA\", \"AC\", \"AG\", \"AU\", \"CA\",\n",
        "   \"CC\",\n",
        "   \"CG\",\n",
        "   \"CU\", \"GA\", \"GC\", \"GG\", \"GU\", \"UA\", \"UC\", \"UG\", \"UU\", \"%A\", \"%C\", \"%G\", \"%U\", \"%G+C\", \"%A+U\", \"%AA\", \"%AC\",\n",
        "   \"%AG\",\n",
        "   \"%AU\", \"%CA\", \"%CC\", \"%CG\", \"%CU\", \"%GA\", \"%GC\", \"%GG\", \"%GU\", \"%UA\", \"%UC\", \"%UG\", \"%UU\", \"pb\", \"Npb\",\n",
        "   \"mfe\",\n",
        "   \"dG\", \"Q\", \"NQ\", \"D\", \"ND\", \"nstem\", \"MFE1\", \"MFE2\", \"MFE3\", \"MFE4\", \"total_base\", \"n_stems\", \"avg_bp\"]]\n",
        "\n",
        " b = scon[[\"sequence\", \"Len\", \"mfe\", \"fold\", \"avg_bp\"]]\n",
        " scon1 = scon1.abs()\n",
        " return scon1\n"
      ],
      "metadata": {
        "id": "a6vUdq0lUrMP"
      },
      "execution_count": null,
      "outputs": []
    },
    {
      "cell_type": "code",
      "source": [
        "mammalia = data_prep(spe=\"mammalia\").abs()\n",
        "rice = data_prep(spe=\"monocot\").abs()\n",
        "rodent = data_prep(spe=\"rodent\").abs()\n",
        "rumin = data_prep(spe=\"rumin\").abs()\n",
        "sauria = data_prep(spe=\"sauria\").abs()\n",
        "teleo = data_prep(spe=\"teleo\").abs()\n",
        "human = data_prep(spe=\"human\").abs()\n",
        "virus = data_prep(spe=\"virus\").abs()\n",
        "insect = data_prep(spe= \"insect\").abs()\n",
        "aves = data_prep(spe= \"aves\").abs()"
      ],
      "metadata": {
        "id": "wm40oXC-UvjM",
        "colab": {
          "base_uri": "https://localhost:8080/"
        },
        "outputId": "f7131dae-86ec-43b0-a890-8614777aecb3"
      },
      "execution_count": null,
      "outputs": [
        {
          "output_type": "stream",
          "name": "stdout",
          "text": [
            "Reading dataset:  mammalia\n",
            "\n",
            "Calculating features...\n",
            "\n",
            "Reading dataset:  monocot\n",
            "\n",
            "Calculating features...\n",
            "\n",
            "Reading dataset:  rodent\n",
            "\n",
            "Calculating features...\n",
            "\n",
            "Reading dataset:  rumin\n",
            "\n",
            "Calculating features...\n",
            "\n",
            "Reading dataset:  sauria\n",
            "\n",
            "Calculating features...\n",
            "\n",
            "Reading dataset:  teleo\n",
            "\n",
            "Calculating features...\n",
            "\n",
            "Reading dataset:  human\n",
            "\n",
            "Calculating features...\n",
            "\n",
            "Reading dataset:  virus\n",
            "\n",
            "Calculating features...\n",
            "\n",
            "Reading dataset:  insect\n",
            "\n",
            "Calculating features...\n",
            "\n",
            "Reading dataset:  aves\n",
            "\n",
            "Calculating features...\n",
            "\n"
          ]
        }
      ]
    },
    {
      "cell_type": "code",
      "source": [
        "from google.colab import drive\n",
        "drive.mount('/content/drive')"
      ],
      "metadata": {
        "colab": {
          "base_uri": "https://localhost:8080/"
        },
        "id": "BEjQ2femAXBk",
        "outputId": "ab0832fe-d733-4732-918a-2c8641c92987"
      },
      "execution_count": null,
      "outputs": [
        {
          "output_type": "stream",
          "name": "stdout",
          "text": [
            "Mounted at /content/drive\n"
          ]
        }
      ]
    },
    {
      "cell_type": "code",
      "source": [
        "mammalia.loc[:, 'SEQ'] = int(0)\n",
        "rice.loc[:, 'SEQ'] = int(1)\n",
        "rodent.loc[:, 'SEQ'] = int(2)\n",
        "rumin.loc[:, 'SEQ'] = int(3)\n",
        "sauria.loc[:, 'SEQ'] = int(4)\n",
        "insect.loc[:, 'SEQ'] = int(5)\n",
        "human.loc[:, 'SEQ'] = int(6)\n",
        "aves.loc[:, 'SEQ'] = int(7)"
      ],
      "metadata": {
        "id": "WbirpVLKWB4-"
      },
      "execution_count": null,
      "outputs": []
    },
    {
      "cell_type": "markdown",
      "source": [],
      "metadata": {
        "id": "oHRNVorSLuNM"
      }
    },
    {
      "cell_type": "code",
      "source": [
        "dataset = pd.concat([mammalia, rice, rodent, rumin, sauria, insect, human, aves])\n",
        "\n",
        "dataset['SEQ'].value_counts().sort_index()"
      ],
      "metadata": {
        "colab": {
          "base_uri": "https://localhost:8080/"
        },
        "id": "fBorPkshWLhV",
        "outputId": "bd0aecda-e3c1-4fad-a802-78b8a79a5ad1"
      },
      "execution_count": null,
      "outputs": [
        {
          "output_type": "execute_result",
          "data": {
            "text/plain": [
              "0     502\n",
              "1     910\n",
              "2    1580\n",
              "3    1064\n",
              "4     606\n",
              "5    3855\n",
              "6    1916\n",
              "7    1381\n",
              "Name: SEQ, dtype: int64"
            ]
          },
          "metadata": {},
          "execution_count": 6
        }
      ]
    },
    {
      "cell_type": "code",
      "source": [
        "dataset.columns"
      ],
      "metadata": {
        "colab": {
          "base_uri": "https://localhost:8080/"
        },
        "id": "oaOnwrClwGio",
        "outputId": "21ea5bb7-7940-4a35-d391-d32ba08453f4"
      },
      "execution_count": null,
      "outputs": [
        {
          "output_type": "execute_result",
          "data": {
            "text/plain": [
              "Index(['Len', 'A', 'C', 'G', 'U', 'G+C', 'A+U', 'AA', 'AC', 'AG', 'AU', 'CA',\n",
              "       'CC', 'CG', 'CU', 'GA', 'GC', 'GG', 'GU', 'UA', 'UC', 'UG', 'UU', '%A',\n",
              "       '%C', '%G', '%U', '%G+C', '%A+U', '%AA', '%AC', '%AG', '%AU', '%CA',\n",
              "       '%CC', '%CG', '%CU', '%GA', '%GC', '%GG', '%GU', '%UA', '%UC', '%UG',\n",
              "       '%UU', 'pb', 'Npb', 'mfe', 'dG', 'Q', 'NQ', 'D', 'ND', 'nstem', 'MFE1',\n",
              "       'MFE2', 'MFE3', 'MFE4', 'total_base', 'n_stems', 'avg_bp', 'SEQ'],\n",
              "      dtype='object')"
            ]
          },
          "metadata": {},
          "execution_count": 7
        }
      ]
    },
    {
      "cell_type": "code",
      "source": [
        "test = dataset.iloc[:, -1]\n",
        "train = dataset.iloc[:,:-1]"
      ],
      "metadata": {
        "id": "qzQJHwxXWc-w"
      },
      "execution_count": null,
      "outputs": []
    },
    {
      "cell_type": "code",
      "source": [
        "train.shape , test.shape"
      ],
      "metadata": {
        "colab": {
          "base_uri": "https://localhost:8080/"
        },
        "id": "U_sFMhrTCe3y",
        "outputId": "1d5c1658-b8e0-47e3-965c-f652766e2207"
      },
      "execution_count": null,
      "outputs": [
        {
          "output_type": "execute_result",
          "data": {
            "text/plain": [
              "((11814, 61), (11814,))"
            ]
          },
          "metadata": {},
          "execution_count": 9
        }
      ]
    },
    {
      "cell_type": "code",
      "source": [
        "from sklearn.model_selection import train_test_split\n",
        "\n",
        "X_train,X_test,y_train,y_test = train_test_split(train,test,random_state = 42,test_size=0.1)"
      ],
      "metadata": {
        "id": "nJ3X-Jg_Cx4Y"
      },
      "execution_count": null,
      "outputs": []
    },
    {
      "cell_type": "code",
      "source": [
        "from imblearn.over_sampling import SMOTE\n",
        "X_resampled, y_resampled = SMOTE().fit_resample(X_train,y_train)"
      ],
      "metadata": {
        "id": "oYEUALbgdNau"
      },
      "execution_count": null,
      "outputs": []
    },
    {
      "cell_type": "code",
      "source": [
        "from imblearn.under_sampling import NearMiss\n",
        "nr = NearMiss()\n",
        "  \n",
        "X_train_miss, y_train_miss = nr.fit_sample(X_test, y_test .ravel())"
      ],
      "metadata": {
        "id": "y9ulc-5Bgni2"
      },
      "execution_count": null,
      "outputs": []
    },
    {
      "cell_type": "code",
      "source": [
        "y_train.value_counts()/len(y_train)*100"
      ],
      "metadata": {
        "colab": {
          "base_uri": "https://localhost:8080/"
        },
        "id": "mOD4SgpWDTP4",
        "outputId": "9088fffa-b4da-48f0-b5ee-8fbed585ded3"
      },
      "execution_count": null,
      "outputs": [
        {
          "output_type": "execute_result",
          "data": {
            "text/plain": [
              "5    32.853649\n",
              "6    16.158766\n",
              "2    13.243040\n",
              "7    11.709932\n",
              "3     8.916479\n",
              "1     7.825433\n",
              "4     5.088412\n",
              "0     4.204289\n",
              "Name: SEQ, dtype: float64"
            ]
          },
          "metadata": {},
          "execution_count": 14
        }
      ]
    },
    {
      "cell_type": "code",
      "source": [
        "y_test.value_counts()/len(y_test)*100"
      ],
      "metadata": {
        "colab": {
          "base_uri": "https://localhost:8080/"
        },
        "id": "x6YNDirwDd2a",
        "outputId": "8d36765a-0263-4ee5-c19c-74f52be71ff6"
      },
      "execution_count": null,
      "outputs": [
        {
          "output_type": "execute_result",
          "data": {
            "text/plain": [
              "5    30.626058\n",
              "6    16.751269\n",
              "2    14.551607\n",
              "7    11.505922\n",
              "3     9.813875\n",
              "1     6.598985\n",
              "4     5.499154\n",
              "0     4.653130\n",
              "Name: SEQ, dtype: float64"
            ]
          },
          "metadata": {},
          "execution_count": 12
        }
      ]
    },
    {
      "cell_type": "code",
      "source": [
        "import seaborn as sns\n",
        "import matplotlib.pyplot as plt"
      ],
      "metadata": {
        "id": "gwHH4A8vNLvx"
      },
      "execution_count": null,
      "outputs": []
    },
    {
      "cell_type": "code",
      "source": [
        "import numpy as np\n",
        "import matplotlib.pyplot as plt\n",
        "import seaborn as sns\n",
        "\n",
        "#Using Pearson Correlation\n",
        "cor = dataset.corr()\n"
      ],
      "metadata": {
        "id": "s-DxkC4fNNgw"
      },
      "execution_count": null,
      "outputs": []
    },
    {
      "cell_type": "code",
      "source": [
        "from sklearn.cluster import KMeans\n",
        "wcss = []\n",
        "for i in range(1, 11):\n",
        "    kmeans = KMeans(n_clusters = i, init = 'k-means++', random_state = 42)\n",
        "    kmeans.fit(train[useful])\n",
        "    wcss.append(kmeans.inertia_)"
      ],
      "metadata": {
        "id": "FmdlrP8POAhz"
      },
      "execution_count": null,
      "outputs": []
    },
    {
      "cell_type": "code",
      "source": [
        "plt.figure(figsize=(10,5))\n",
        "sns.lineplot(range(1, 11), wcss,marker='o',color='red')\n",
        "plt.title('The Elbow Method')\n",
        "plt.xlabel('Number of clusters')\n",
        "plt.ylabel('WCSS')\n",
        "plt.show()"
      ],
      "metadata": {
        "colab": {
          "base_uri": "https://localhost:8080/",
          "height": 405
        },
        "id": "XhuDFF8wRyCV",
        "outputId": "f880b8a7-8eaa-496e-e492-118a0b4ea0a5"
      },
      "execution_count": null,
      "outputs": [
        {
          "output_type": "stream",
          "name": "stderr",
          "text": [
            "/usr/local/lib/python3.7/dist-packages/seaborn/_decorators.py:43: FutureWarning: Pass the following variables as keyword args: x, y. From version 0.12, the only valid positional argument will be `data`, and passing other arguments without an explicit keyword will result in an error or misinterpretation.\n",
            "  FutureWarning\n"
          ]
        },
        {
          "output_type": "display_data",
          "data": {
            "text/plain": [
              "<Figure size 720x360 with 1 Axes>"
            ],
            "image/png": "[encoded data removed]"
          },
          "metadata": {
            "needs_background": "light"
          }
        }
      ]
    },
    {
      "cell_type": "code",
      "source": [
        "kmeans = KMeans(n_clusters = 4, init = 'k-means++', random_state = 42)\n",
        "y_kmeans = kmeans.fit_predict(train[useful])"
      ],
      "metadata": {
        "id": "F7nXcBiJS1CO"
      },
      "execution_count": null,
      "outputs": []
    },
    {
      "cell_type": "code",
      "source": [
        "y_kmeans"
      ],
      "metadata": {
        "colab": {
          "base_uri": "https://localhost:8080/"
        },
        "id": "PigtaxSWS4i1",
        "outputId": "b9629f0e-3137-4ba4-eed2-c2c7b1e58164"
      },
      "execution_count": null,
      "outputs": [
        {
          "output_type": "execute_result",
          "data": {
            "text/plain": [
              "array([3, 3, 0, ..., 1, 3, 3], dtype=int32)"
            ]
          },
          "metadata": {},
          "execution_count": 196
        }
      ]
    },
    {
      "cell_type": "code",
      "source": [
        "test.to_numpy()"
      ],
      "metadata": {
        "colab": {
          "base_uri": "https://localhost:8080/"
        },
        "id": "jj-lWYMFTFf2",
        "outputId": "3cdca620-230e-4017-d265-449e3f5fff70"
      },
      "execution_count": null,
      "outputs": [
        {
          "output_type": "execute_result",
          "data": {
            "text/plain": [
              "array([0, 0, 0, ..., 3, 3, 3])"
            ]
          },
          "metadata": {},
          "execution_count": 197
        }
      ]
    },
    {
      "cell_type": "code",
      "source": [
        "from sklearn.metrics import accuracy_score\n",
        "accuracy_score(y_kmeans,test)"
      ],
      "metadata": {
        "colab": {
          "base_uri": "https://localhost:8080/"
        },
        "id": "8v9o0re_Ti4i",
        "outputId": "7ba9406e-8272-4d0d-b8e6-fb0cf2bad8c2"
      },
      "execution_count": null,
      "outputs": [
        {
          "output_type": "execute_result",
          "data": {
            "text/plain": [
              "0.33488854328667705"
            ]
          },
          "metadata": {},
          "execution_count": 198
        }
      ]
    },
    {
      "cell_type": "code",
      "source": [
        "columns = cor['SEQ'][(cor[\"SEQ\"] > 0.05) | (cor['SEQ']<-0.05)].index"
      ],
      "metadata": {
        "id": "al1rNZA6UWJF"
      },
      "execution_count": null,
      "outputs": []
    },
    {
      "cell_type": "code",
      "source": [
        "columns = columns.drop('SEQ')"
      ],
      "metadata": {
        "id": "1Ow7DFDoUwWE"
      },
      "execution_count": null,
      "outputs": []
    },
    {
      "cell_type": "code",
      "source": [
        "columns"
      ],
      "metadata": {
        "colab": {
          "base_uri": "https://localhost:8080/"
        },
        "id": "M5RSg4zgWL9J",
        "outputId": "5191e023-db79-4349-cb60-ff210124257c"
      },
      "execution_count": null,
      "outputs": [
        {
          "output_type": "execute_result",
          "data": {
            "text/plain": [
              "Index(['Len', 'A', 'C', 'G', 'U', 'G+C', 'A+U', 'AA', 'AC', 'AG', 'AU', 'CA',\n",
              "       'CG', 'CU', 'GA', 'GC', 'GU', 'UA', 'UC', 'UG', 'UU', '%U', '%AG',\n",
              "       '%AU', '%CC', '%CG', '%GC', '%GG', '%UG', 'pb', 'Npb', 'mfe', 'dG', 'Q',\n",
              "       'NQ', 'D', 'nstem', 'MFE1', 'MFE2', 'MFE3', 'MFE4', 'total_base',\n",
              "       'n_stems', 'avg_bp'],\n",
              "      dtype='object')"
            ]
          },
          "metadata": {},
          "execution_count": 100
        }
      ]
    },
    {
      "cell_type": "code",
      "source": [
        "non_useful = [col for col in train.columns if col not in columns]"
      ],
      "metadata": {
        "id": "rRi_v2mpWbJC"
      },
      "execution_count": null,
      "outputs": []
    },
    {
      "cell_type": "code",
      "source": [
        "non_useful"
      ],
      "metadata": {
        "colab": {
          "base_uri": "https://localhost:8080/"
        },
        "id": "qN1pI6qiXfGC",
        "outputId": "acc5989b-9e9d-46bf-91f7-c38e30aa1664"
      },
      "execution_count": null,
      "outputs": [
        {
          "output_type": "execute_result",
          "data": {
            "text/plain": [
              "['CC',\n",
              " 'GG',\n",
              " '%A',\n",
              " '%C',\n",
              " '%G',\n",
              " '%G+C',\n",
              " '%A+U',\n",
              " '%AA',\n",
              " '%AC',\n",
              " '%CA',\n",
              " '%CU',\n",
              " '%GA',\n",
              " '%GU',\n",
              " '%UA',\n",
              " '%UC',\n",
              " '%UU',\n",
              " 'ND']"
            ]
          },
          "metadata": {},
          "execution_count": 123
        }
      ]
    },
    {
      "cell_type": "code",
      "source": [
        "sns.scatterplot(x='Len',y='A',data=train,hue=y_kmeans)"
      ],
      "metadata": {
        "colab": {
          "base_uri": "https://localhost:8080/",
          "height": 298
        },
        "id": "T1woMgvlXg4l",
        "outputId": "5b6b23ff-4b5f-4d00-a189-e5ee506ce852"
      },
      "execution_count": null,
      "outputs": [
        {
          "output_type": "execute_result",
          "data": {
            "text/plain": [
              "<matplotlib.axes._subplots.AxesSubplot at 0x7f1af963f850>"
            ]
          },
          "metadata": {},
          "execution_count": 125
        },
        {
          "output_type": "display_data",
          "data": {
            "text/plain": [
              "<Figure size 432x288 with 1 Axes>"
            ],
            "image/png": "[encoded data removed]"
          },
          "metadata": {
            "needs_background": "light"
          }
        }
      ]
    },
    {
      "cell_type": "code",
      "source": [
        "sns.scatterplot(x='Len',y='A',data=train,hue=test)\n"
      ],
      "metadata": {
        "colab": {
          "base_uri": "https://localhost:8080/",
          "height": 298
        },
        "id": "If3pjU8NY0wC",
        "outputId": "ded88d88-5bd6-4956-a298-1df6f1b2bd53"
      },
      "execution_count": null,
      "outputs": [
        {
          "output_type": "execute_result",
          "data": {
            "text/plain": [
              "<matplotlib.axes._subplots.AxesSubplot at 0x7f1af78537d0>"
            ]
          },
          "metadata": {},
          "execution_count": 126
        },
        {
          "output_type": "display_data",
          "data": {
            "text/plain": [
              "<Figure size 432x288 with 1 Axes>"
            ],
            "image/png": "[encoded data removed]"
          },
          "metadata": {
            "needs_background": "light"
          }
        }
      ]
    },
    {
      "cell_type": "code",
      "source": [
        "pip install eli5"
      ],
      "metadata": {
        "colab": {
          "base_uri": "https://localhost:8080/"
        },
        "id": "14Uc5fWfcvJY",
        "outputId": "fcde0590-c0c0-42b0-c84f-5ce4ea8507b0"
      },
      "execution_count": null,
      "outputs": [
        {
          "output_type": "stream",
          "name": "stdout",
          "text": [
            "Looking in indexes: https://pypi.org/simple, https://us-python.pkg.dev/colab-wheels/public/simple/\n",
            "Collecting eli5\n",
            "  Downloading eli5-0.13.0.tar.gz (216 kB)\n",
            "\u001b[K     |████████████████████████████████| 216 kB 4.7 MB/s \n",
            "\u001b[?25hRequirement already satisfied: attrs>17.1.0 in /usr/local/lib/python3.7/dist-packages (from eli5) (22.1.0)\n",
            "Collecting jinja2>=3.0.0\n",
            "  Downloading Jinja2-3.1.2-py3-none-any.whl (133 kB)\n",
            "\u001b[K     |████████████████████████████████| 133 kB 47.5 MB/s \n",
            "\u001b[?25hRequirement already satisfied: numpy>=1.9.0 in /usr/local/lib/python3.7/dist-packages (from eli5) (1.21.6)\n",
            "Requirement already satisfied: scipy in /usr/local/lib/python3.7/dist-packages (from eli5) (1.7.3)\n",
            "Requirement already satisfied: six in /usr/local/lib/python3.7/dist-packages (from eli5) (1.15.0)\n",
            "Requirement already satisfied: scikit-learn>=0.20 in /usr/local/lib/python3.7/dist-packages (from eli5) (1.0.2)\n",
            "Requirement already satisfied: graphviz in /usr/local/lib/python3.7/dist-packages (from eli5) (0.10.1)\n",
            "Requirement already satisfied: tabulate>=0.7.7 in /usr/local/lib/python3.7/dist-packages (from eli5) (0.8.10)\n",
            "Requirement already satisfied: MarkupSafe>=2.0 in /usr/local/lib/python3.7/dist-packages (from jinja2>=3.0.0->eli5) (2.0.1)\n",
            "Requirement already satisfied: joblib>=0.11 in /usr/local/lib/python3.7/dist-packages (from scikit-learn>=0.20->eli5) (1.2.0)\n",
            "Requirement already satisfied: threadpoolctl>=2.0.0 in /usr/local/lib/python3.7/dist-packages (from scikit-learn>=0.20->eli5) (3.1.0)\n",
            "Building wheels for collected packages: eli5\n",
            "  Building wheel for eli5 (setup.py) ... \u001b[?25l\u001b[?25hdone\n",
            "  Created wheel for eli5: filename=eli5-0.13.0-py2.py3-none-any.whl size=107748 sha256=a372923ddda9e314cec8ced9ccdc04cc6f411dd1fb0678bd2723542222784123\n",
            "  Stored in directory: /root/.cache/pip/wheels/cc/3c/96/3ead31a8e6c20fc0f1a707fde2e05d49a80b1b4b30096573be\n",
            "Successfully built eli5\n",
            "Installing collected packages: jinja2, eli5\n",
            "  Attempting uninstall: jinja2\n",
            "    Found existing installation: Jinja2 2.11.3\n",
            "    Uninstalling Jinja2-2.11.3:\n",
            "      Successfully uninstalled Jinja2-2.11.3\n",
            "\u001b[31mERROR: pip's dependency resolver does not currently take into account all the packages that are installed. This behaviour is the source of the following dependency conflicts.\n",
            "flask 1.1.4 requires Jinja2<3.0,>=2.10.1, but you have jinja2 3.1.2 which is incompatible.\u001b[0m\n",
            "Successfully installed eli5-0.13.0 jinja2-3.1.2\n"
          ]
        }
      ]
    },
    {
      "cell_type": "code",
      "source": [
        "import eli5\n",
        "from eli5.sklearn import PermutationImportance\n",
        "import xgboost as xgb\n",
        "params = {'lambda': 6.020325421308473, 'alpha': 0.39501840564315227, 'colsample_bytree': 0.9, 'subsample': 0.7, 'learning_rate': 0.016, 'n_estimators': 112, 'max_depth': 17, 'random_state': 2020, 'min_child_weight': 1}\n",
        "rf= xgb.XGBClassifier(**params)\n",
        "rf.fit(X_train,y_train)\n",
        "perm = PermutationImportance(rf, random_state=0).fit(X_test, y_test)\n",
        "eli5.show_weights(perm, feature_names = train.columns.tolist())"
      ],
      "metadata": {
        "colab": {
          "base_uri": "https://localhost:8080/",
          "height": 399
        },
        "id": "9AEV61slhudy",
        "outputId": "c62487b8-65ab-4367-8940-ff39dbc8cf9a"
      },
      "execution_count": null,
      "outputs": [
        {
          "output_type": "execute_result",
          "data": {
            "text/plain": [
              "<IPython.core.display.HTML object>"
            ],
            "text/html": [
              "\n",
              "    <style>\n",
              "    table.eli5-weights tr:hover {\n",
              "        filter: brightness(85%);\n",
              "    }\n",
              "</style>\n",
              "\n",
              "\n",
              "\n",
              "    \n",
              "\n",
              "    \n",
              "\n",
              "    \n",
              "\n",
              "    \n",
              "\n",
              "    \n",
              "\n",
              "    \n",
              "\n",
              "\n",
              "    \n",
              "\n",
              "    \n",
              "\n",
              "    \n",
              "\n",
              "    \n",
              "\n",
              "    \n",
              "\n",
              "    \n",
              "\n",
              "\n",
              "    \n",
              "\n",
              "    \n",
              "\n",
              "    \n",
              "\n",
              "    \n",
              "\n",
              "    \n",
              "        <table class=\"eli5-weights eli5-feature-importances\" style=\"border-collapse: collapse; border: none; margin-top: 0em; table-layout: auto;\">\n",
              "    <thead>\n",
              "    <tr style=\"border: none;\">\n",
              "        <th style=\"padding: 0 1em 0 0.5em; text-align: right; border: none;\">Weight</th>\n",
              "        <th style=\"padding: 0 0.5em 0 0.5em; text-align: left; border: none;\">Feature</th>\n",
              "    </tr>\n",
              "    </thead>\n",
              "    <tbody>\n",
              "    \n",
              "        <tr style=\"background-color: hsl(120, 100.00%, 80.00%); border: none;\">\n",
              "            <td style=\"padding: 0 1em 0 0.5em; text-align: right; border: none;\">\n",
              "                0.0469\n",
              "                \n",
              "                    &plusmn; 0.0145\n",
              "                \n",
              "            </td>\n",
              "            <td style=\"padding: 0 0.5em 0 0.5em; text-align: left; border: none;\">\n",
              "                %CG\n",
              "            </td>\n",
              "        </tr>\n",
              "    \n",
              "        <tr style=\"background-color: hsl(120, 100.00%, 84.53%); border: none;\">\n",
              "            <td style=\"padding: 0 1em 0 0.5em; text-align: right; border: none;\">\n",
              "                0.0325\n",
              "                \n",
              "                    &plusmn; 0.0185\n",
              "                \n",
              "            </td>\n",
              "            <td style=\"padding: 0 0.5em 0 0.5em; text-align: left; border: none;\">\n",
              "                CG\n",
              "            </td>\n",
              "        </tr>\n",
              "    \n",
              "        <tr style=\"background-color: hsl(120, 100.00%, 91.74%); border: none;\">\n",
              "            <td style=\"padding: 0 1em 0 0.5em; text-align: right; border: none;\">\n",
              "                0.0133\n",
              "                \n",
              "                    &plusmn; 0.0085\n",
              "                \n",
              "            </td>\n",
              "            <td style=\"padding: 0 0.5em 0 0.5em; text-align: left; border: none;\">\n",
              "                %G+C\n",
              "            </td>\n",
              "        </tr>\n",
              "    \n",
              "        <tr style=\"background-color: hsl(120, 100.00%, 92.55%); border: none;\">\n",
              "            <td style=\"padding: 0 1em 0 0.5em; text-align: right; border: none;\">\n",
              "                0.0114\n",
              "                \n",
              "                    &plusmn; 0.0105\n",
              "                \n",
              "            </td>\n",
              "            <td style=\"padding: 0 0.5em 0 0.5em; text-align: left; border: none;\">\n",
              "                Len\n",
              "            </td>\n",
              "        </tr>\n",
              "    \n",
              "        <tr style=\"background-color: hsl(120, 100.00%, 93.08%); border: none;\">\n",
              "            <td style=\"padding: 0 1em 0 0.5em; text-align: right; border: none;\">\n",
              "                0.0103\n",
              "                \n",
              "                    &plusmn; 0.0105\n",
              "                \n",
              "            </td>\n",
              "            <td style=\"padding: 0 0.5em 0 0.5em; text-align: left; border: none;\">\n",
              "                dG\n",
              "            </td>\n",
              "        </tr>\n",
              "    \n",
              "        <tr style=\"background-color: hsl(120, 100.00%, 93.19%); border: none;\">\n",
              "            <td style=\"padding: 0 1em 0 0.5em; text-align: right; border: none;\">\n",
              "                0.0101\n",
              "                \n",
              "                    &plusmn; 0.0047\n",
              "                \n",
              "            </td>\n",
              "            <td style=\"padding: 0 0.5em 0 0.5em; text-align: left; border: none;\">\n",
              "                Npb\n",
              "            </td>\n",
              "        </tr>\n",
              "    \n",
              "        <tr style=\"background-color: hsl(120, 100.00%, 93.19%); border: none;\">\n",
              "            <td style=\"padding: 0 1em 0 0.5em; text-align: right; border: none;\">\n",
              "                0.0101\n",
              "                \n",
              "                    &plusmn; 0.0060\n",
              "                \n",
              "            </td>\n",
              "            <td style=\"padding: 0 0.5em 0 0.5em; text-align: left; border: none;\">\n",
              "                %AG\n",
              "            </td>\n",
              "        </tr>\n",
              "    \n",
              "        <tr style=\"background-color: hsl(120, 100.00%, 93.97%); border: none;\">\n",
              "            <td style=\"padding: 0 1em 0 0.5em; text-align: right; border: none;\">\n",
              "                0.0085\n",
              "                \n",
              "                    &plusmn; 0.0023\n",
              "                \n",
              "            </td>\n",
              "            <td style=\"padding: 0 0.5em 0 0.5em; text-align: left; border: none;\">\n",
              "                MFE4\n",
              "            </td>\n",
              "        </tr>\n",
              "    \n",
              "        <tr style=\"background-color: hsl(120, 100.00%, 94.55%); border: none;\">\n",
              "            <td style=\"padding: 0 1em 0 0.5em; text-align: right; border: none;\">\n",
              "                0.0073\n",
              "                \n",
              "                    &plusmn; 0.0099\n",
              "                \n",
              "            </td>\n",
              "            <td style=\"padding: 0 0.5em 0 0.5em; text-align: left; border: none;\">\n",
              "                %AU\n",
              "            </td>\n",
              "        </tr>\n",
              "    \n",
              "        <tr style=\"background-color: hsl(120, 100.00%, 95.81%); border: none;\">\n",
              "            <td style=\"padding: 0 1em 0 0.5em; text-align: right; border: none;\">\n",
              "                0.0050\n",
              "                \n",
              "                    &plusmn; 0.0072\n",
              "                \n",
              "            </td>\n",
              "            <td style=\"padding: 0 0.5em 0 0.5em; text-align: left; border: none;\">\n",
              "                %GC\n",
              "            </td>\n",
              "        </tr>\n",
              "    \n",
              "        <tr style=\"background-color: hsl(120, 100.00%, 95.81%); border: none;\">\n",
              "            <td style=\"padding: 0 1em 0 0.5em; text-align: right; border: none;\">\n",
              "                0.0050\n",
              "                \n",
              "                    &plusmn; 0.0096\n",
              "                \n",
              "            </td>\n",
              "            <td style=\"padding: 0 0.5em 0 0.5em; text-align: left; border: none;\">\n",
              "                MFE2\n",
              "            </td>\n",
              "        </tr>\n",
              "    \n",
              "        <tr style=\"background-color: hsl(120, 100.00%, 96.50%); border: none;\">\n",
              "            <td style=\"padding: 0 1em 0 0.5em; text-align: right; border: none;\">\n",
              "                0.0039\n",
              "                \n",
              "                    &plusmn; 0.0061\n",
              "                \n",
              "            </td>\n",
              "            <td style=\"padding: 0 0.5em 0 0.5em; text-align: left; border: none;\">\n",
              "                %GU\n",
              "            </td>\n",
              "        </tr>\n",
              "    \n",
              "        <tr style=\"background-color: hsl(120, 100.00%, 96.65%); border: none;\">\n",
              "            <td style=\"padding: 0 1em 0 0.5em; text-align: right; border: none;\">\n",
              "                0.0037\n",
              "                \n",
              "                    &plusmn; 0.0082\n",
              "                \n",
              "            </td>\n",
              "            <td style=\"padding: 0 0.5em 0 0.5em; text-align: left; border: none;\">\n",
              "                %U\n",
              "            </td>\n",
              "        </tr>\n",
              "    \n",
              "        <tr style=\"background-color: hsl(120, 100.00%, 96.79%); border: none;\">\n",
              "            <td style=\"padding: 0 1em 0 0.5em; text-align: right; border: none;\">\n",
              "                0.0034\n",
              "                \n",
              "                    &plusmn; 0.0043\n",
              "                \n",
              "            </td>\n",
              "            <td style=\"padding: 0 0.5em 0 0.5em; text-align: left; border: none;\">\n",
              "                AU\n",
              "            </td>\n",
              "        </tr>\n",
              "    \n",
              "        <tr style=\"background-color: hsl(120, 100.00%, 97.10%); border: none;\">\n",
              "            <td style=\"padding: 0 1em 0 0.5em; text-align: right; border: none;\">\n",
              "                0.0030\n",
              "                \n",
              "                    &plusmn; 0.0049\n",
              "                \n",
              "            </td>\n",
              "            <td style=\"padding: 0 0.5em 0 0.5em; text-align: left; border: none;\">\n",
              "                GC\n",
              "            </td>\n",
              "        </tr>\n",
              "    \n",
              "        <tr style=\"background-color: hsl(120, 100.00%, 97.10%); border: none;\">\n",
              "            <td style=\"padding: 0 1em 0 0.5em; text-align: right; border: none;\">\n",
              "                0.0030\n",
              "                \n",
              "                    &plusmn; 0.0047\n",
              "                \n",
              "            </td>\n",
              "            <td style=\"padding: 0 0.5em 0 0.5em; text-align: left; border: none;\">\n",
              "                CA\n",
              "            </td>\n",
              "        </tr>\n",
              "    \n",
              "        <tr style=\"background-color: hsl(120, 100.00%, 97.10%); border: none;\">\n",
              "            <td style=\"padding: 0 1em 0 0.5em; text-align: right; border: none;\">\n",
              "                0.0030\n",
              "                \n",
              "                    &plusmn; 0.0023\n",
              "                \n",
              "            </td>\n",
              "            <td style=\"padding: 0 0.5em 0 0.5em; text-align: left; border: none;\">\n",
              "                AG\n",
              "            </td>\n",
              "        </tr>\n",
              "    \n",
              "        <tr style=\"background-color: hsl(120, 100.00%, 97.26%); border: none;\">\n",
              "            <td style=\"padding: 0 1em 0 0.5em; text-align: right; border: none;\">\n",
              "                0.0027\n",
              "                \n",
              "                    &plusmn; 0.0042\n",
              "                \n",
              "            </td>\n",
              "            <td style=\"padding: 0 0.5em 0 0.5em; text-align: left; border: none;\">\n",
              "                C\n",
              "            </td>\n",
              "        </tr>\n",
              "    \n",
              "        <tr style=\"background-color: hsl(120, 100.00%, 97.42%); border: none;\">\n",
              "            <td style=\"padding: 0 1em 0 0.5em; text-align: right; border: none;\">\n",
              "                0.0025\n",
              "                \n",
              "                    &plusmn; 0.0027\n",
              "                \n",
              "            </td>\n",
              "            <td style=\"padding: 0 0.5em 0 0.5em; text-align: left; border: none;\">\n",
              "                %GA\n",
              "            </td>\n",
              "        </tr>\n",
              "    \n",
              "        <tr style=\"background-color: hsl(120, 100.00%, 97.42%); border: none;\">\n",
              "            <td style=\"padding: 0 1em 0 0.5em; text-align: right; border: none;\">\n",
              "                0.0025\n",
              "                \n",
              "                    &plusmn; 0.0027\n",
              "                \n",
              "            </td>\n",
              "            <td style=\"padding: 0 0.5em 0 0.5em; text-align: left; border: none;\">\n",
              "                Q\n",
              "            </td>\n",
              "        </tr>\n",
              "    \n",
              "    \n",
              "        \n",
              "            <tr style=\"background-color: hsl(120, 100.00%, 97.42%); border: none;\">\n",
              "                <td colspan=\"2\" style=\"padding: 0 0.5em 0 0.5em; text-align: center; border: none; white-space: nowrap;\">\n",
              "                    <i>&hellip; 41 more &hellip;</i>\n",
              "                </td>\n",
              "            </tr>\n",
              "        \n",
              "    \n",
              "    </tbody>\n",
              "</table>\n",
              "    \n",
              "\n",
              "    \n",
              "\n",
              "\n",
              "    \n",
              "\n",
              "    \n",
              "\n",
              "    \n",
              "\n",
              "    \n",
              "\n",
              "    \n",
              "\n",
              "    \n",
              "\n",
              "\n",
              "\n"
            ]
          },
          "metadata": {},
          "execution_count": 25
        }
      ]
    },
    {
      "cell_type": "code",
      "source": [
        "i = list(perm.feature_importances_)\n",
        "c = train.columns.to_list()\n",
        "im = pd.DataFrame(data=[i,c]).T.sort_values(by=0,ascending=False,ignore_index=True)\n",
        "im"
      ],
      "metadata": {
        "id": "Hk9WvQmbh14m"
      },
      "execution_count": null,
      "outputs": []
    },
    {
      "cell_type": "code",
      "source": [
        "features = im.loc[:41,1].values"
      ],
      "metadata": {
        "id": "eaql3tvFdDV8"
      },
      "execution_count": null,
      "outputs": []
    },
    {
      "cell_type": "code",
      "source": [
        "features"
      ],
      "metadata": {
        "colab": {
          "base_uri": "https://localhost:8080/"
        },
        "id": "EebfWv90djMX",
        "outputId": "676662f6-00e6-4944-a51d-3e7e69fb01a9"
      },
      "execution_count": null,
      "outputs": [
        {
          "output_type": "execute_result",
          "data": {
            "text/plain": [
              "array(['%CG', 'CG', '%G+C', 'Len', 'dG', 'Npb', '%AG', 'MFE4', '%AU',\n",
              "       '%GC', 'MFE2', '%GU', '%U', 'AU', 'GC', 'AG', 'CA', 'C', 'Q',\n",
              "       '%GA', '%UU', '%C', '%GG', 'A+U', 'U', 'GU', '%UG', 'pb', 'D',\n",
              "       '%UA', 'G+C', 'AA', 'MFE1', '%CC', 'avg_bp', 'CU', 'mfe', '%AC',\n",
              "       'UC', 'A', 'nstem', 'GA'], dtype=object)"
            ]
          },
          "metadata": {},
          "execution_count": 32
        }
      ]
    },
    {
      "cell_type": "code",
      "source": [
        "columns"
      ],
      "metadata": {
        "colab": {
          "base_uri": "https://localhost:8080/"
        },
        "id": "wQdYmC8ydwNf",
        "outputId": "941e8785-f738-47e4-f18b-a7f2860f2866"
      },
      "execution_count": null,
      "outputs": [
        {
          "output_type": "execute_result",
          "data": {
            "text/plain": [
              "Index(['Len', 'A', 'C', 'G', 'U', 'G+C', 'A+U', 'AA', 'AC', 'AG', 'AU', 'CA',\n",
              "       'CG', 'CU', 'GA', 'GC', 'GU', 'UA', 'UC', 'UG', 'UU', '%U', '%AG',\n",
              "       '%AU', '%CC', '%CG', '%GC', '%GG', '%UG', 'pb', 'Npb', 'mfe', 'dG', 'Q',\n",
              "       'NQ', 'D', 'nstem', 'MFE1', 'MFE2', 'MFE3', 'MFE4', 'total_base',\n",
              "       'n_stems', 'avg_bp'],\n",
              "      dtype='object')"
            ]
          },
          "metadata": {},
          "execution_count": 171
        }
      ]
    },
    {
      "cell_type": "code",
      "source": [
        "useful = [col for col in columns if col not in new_columns]"
      ],
      "metadata": {
        "id": "Y7ssK2Mxd1hh"
      },
      "execution_count": null,
      "outputs": []
    },
    {
      "cell_type": "code",
      "source": [
        "len(useful)"
      ],
      "metadata": {
        "colab": {
          "base_uri": "https://localhost:8080/"
        },
        "id": "jJ_tdHTPgRmB",
        "outputId": "bc4de9cd-f3f2-41d6-e137-4692a28e5ed7"
      },
      "execution_count": null,
      "outputs": [
        {
          "output_type": "execute_result",
          "data": {
            "text/plain": [
              "18"
            ]
          },
          "metadata": {},
          "execution_count": 199
        }
      ]
    },
    {
      "cell_type": "code",
      "source": [
        "useful"
      ],
      "metadata": {
        "colab": {
          "base_uri": "https://localhost:8080/"
        },
        "id": "ED1sIU88e29S",
        "outputId": "aea562e3-1785-498f-cc9f-ffd1c9f15971"
      },
      "execution_count": null,
      "outputs": [
        {
          "output_type": "execute_result",
          "data": {
            "text/plain": [
              "['A',\n",
              " 'A+U',\n",
              " 'AA',\n",
              " 'AC',\n",
              " 'AG',\n",
              " 'CA',\n",
              " 'CU',\n",
              " 'GU',\n",
              " 'UA',\n",
              " '%U',\n",
              " '%GC',\n",
              " '%GG',\n",
              " 'dG',\n",
              " 'Q',\n",
              " 'NQ',\n",
              " 'D',\n",
              " 'n_stems',\n",
              " 'avg_bp']"
            ]
          },
          "metadata": {},
          "execution_count": 186
        }
      ]
    },
    {
      "cell_type": "code",
      "source": [
        "for col in new_columns:\n",
        "    if (col not in columns):\n",
        "        print(col)"
      ],
      "metadata": {
        "colab": {
          "base_uri": "https://localhost:8080/"
        },
        "id": "ll6I9oXge4K-",
        "outputId": "0668085f-0af5-4db9-ff89-5c1d637ee21b"
      },
      "execution_count": null,
      "outputs": [
        {
          "output_type": "stream",
          "name": "stdout",
          "text": [
            "%GU\n",
            "%C\n",
            "%UA\n",
            "%CU\n",
            "%GA\n",
            "%AC\n",
            "%G\n",
            "CC\n",
            "%A\n",
            "%CA\n",
            "%A+U\n",
            "%AA\n",
            "%UC\n"
          ]
        }
      ]
    },
    {
      "cell_type": "code",
      "source": [
        "from sklearn.decomposition import PCA\n",
        "\n",
        "pca = PCA(n_components=20,random_state=42)\n",
        "pca_data = pca.fit_transform(X_resampled)\n",
        "pca_test = pca.transform(X_test)"
      ],
      "metadata": {
        "id": "yJDdF6Bj1qh5"
      },
      "execution_count": null,
      "outputs": []
    },
    {
      "cell_type": "code",
      "source": [
        "new_X_train = np.concatenate([X_resampled.values,pca_data],axis=1)\n",
        "new_X_test = np.concatenate([X_test.values,pca_test],axis=1)"
      ],
      "metadata": {
        "id": "HJmzDuCz28Io"
      },
      "execution_count": null,
      "outputs": []
    },
    {
      "cell_type": "code",
      "source": [
        "pip install optuna"
      ],
      "metadata": {
        "id": "DZkwsxm-iFge",
        "colab": {
          "base_uri": "https://localhost:8080/"
        },
        "outputId": "c051e41f-6026-4917-cba7-6f5eaf9c6503"
      },
      "execution_count": null,
      "outputs": [
        {
          "output_type": "stream",
          "name": "stdout",
          "text": [
            "Looking in indexes: https://pypi.org/simple, https://us-python.pkg.dev/colab-wheels/public/simple/\n",
            "Collecting optuna\n",
            "  Downloading optuna-3.0.3-py3-none-any.whl (348 kB)\n",
            "\u001b[K     |████████████████████████████████| 348 kB 6.2 MB/s \n",
            "\u001b[?25hRequirement already satisfied: importlib-metadata<5.0.0 in /usr/local/lib/python3.7/dist-packages (from optuna) (4.13.0)\n",
            "Requirement already satisfied: PyYAML in /usr/local/lib/python3.7/dist-packages (from optuna) (6.0)\n",
            "Requirement already satisfied: scipy<1.9.0,>=1.7.0 in /usr/local/lib/python3.7/dist-packages (from optuna) (1.7.3)\n",
            "Requirement already satisfied: sqlalchemy>=1.3.0 in /usr/local/lib/python3.7/dist-packages (from optuna) (1.4.42)\n",
            "Collecting colorlog\n",
            "  Downloading colorlog-6.7.0-py2.py3-none-any.whl (11 kB)\n",
            "Collecting alembic>=1.5.0\n",
            "  Downloading alembic-1.8.1-py3-none-any.whl (209 kB)\n",
            "\u001b[K     |████████████████████████████████| 209 kB 12.2 MB/s \n",
            "\u001b[?25hRequirement already satisfied: packaging>=20.0 in /usr/local/lib/python3.7/dist-packages (from optuna) (21.3)\n",
            "Collecting cmaes>=0.8.2\n",
            "  Downloading cmaes-0.8.2-py3-none-any.whl (15 kB)\n",
            "Collecting cliff\n",
            "  Downloading cliff-3.10.1-py3-none-any.whl (81 kB)\n",
            "\u001b[K     |████████████████████████████████| 81 kB 7.4 MB/s \n",
            "\u001b[?25hRequirement already satisfied: numpy in /usr/local/lib/python3.7/dist-packages (from optuna) (1.21.6)\n",
            "Requirement already satisfied: tqdm in /usr/local/lib/python3.7/dist-packages (from optuna) (4.64.1)\n",
            "Collecting Mako\n",
            "  Downloading Mako-1.2.3-py3-none-any.whl (78 kB)\n",
            "\u001b[K     |████████████████████████████████| 78 kB 6.3 MB/s \n",
            "\u001b[?25hRequirement already satisfied: importlib-resources in /usr/local/lib/python3.7/dist-packages (from alembic>=1.5.0->optuna) (5.10.0)\n",
            "Requirement already satisfied: zipp>=0.5 in /usr/local/lib/python3.7/dist-packages (from importlib-metadata<5.0.0->optuna) (3.10.0)\n",
            "Requirement already satisfied: typing-extensions>=3.6.4 in /usr/local/lib/python3.7/dist-packages (from importlib-metadata<5.0.0->optuna) (4.1.1)\n",
            "Requirement already satisfied: pyparsing!=3.0.5,>=2.0.2 in /usr/local/lib/python3.7/dist-packages (from packaging>=20.0->optuna) (3.0.9)\n",
            "Requirement already satisfied: greenlet!=0.4.17 in /usr/local/lib/python3.7/dist-packages (from sqlalchemy>=1.3.0->optuna) (1.1.3.post0)\n",
            "Collecting pbr!=2.1.0,>=2.0.0\n",
            "  Downloading pbr-5.11.0-py2.py3-none-any.whl (112 kB)\n",
            "\u001b[K     |████████████████████████████████| 112 kB 54.4 MB/s \n",
            "\u001b[?25hCollecting autopage>=0.4.0\n",
            "  Downloading autopage-0.5.1-py3-none-any.whl (29 kB)\n",
            "Collecting stevedore>=2.0.1\n",
            "  Downloading stevedore-3.5.2-py3-none-any.whl (50 kB)\n",
            "\u001b[K     |████████████████████████████████| 50 kB 6.6 MB/s \n",
            "\u001b[?25hCollecting cmd2>=1.0.0\n",
            "  Downloading cmd2-2.4.2-py3-none-any.whl (147 kB)\n",
            "\u001b[K     |████████████████████████████████| 147 kB 55.5 MB/s \n",
            "\u001b[?25hRequirement already satisfied: PrettyTable>=0.7.2 in /usr/local/lib/python3.7/dist-packages (from cliff->optuna) (3.4.1)\n",
            "Collecting pyperclip>=1.6\n",
            "  Downloading pyperclip-1.8.2.tar.gz (20 kB)\n",
            "Requirement already satisfied: wcwidth>=0.1.7 in /usr/local/lib/python3.7/dist-packages (from cmd2>=1.0.0->cliff->optuna) (0.2.5)\n",
            "Requirement already satisfied: attrs>=16.3.0 in /usr/local/lib/python3.7/dist-packages (from cmd2>=1.0.0->cliff->optuna) (22.1.0)\n",
            "Requirement already satisfied: MarkupSafe>=0.9.2 in /usr/local/lib/python3.7/dist-packages (from Mako->alembic>=1.5.0->optuna) (2.0.1)\n",
            "Building wheels for collected packages: pyperclip\n",
            "  Building wheel for pyperclip (setup.py) ... \u001b[?25l\u001b[?25hdone\n",
            "  Created wheel for pyperclip: filename=pyperclip-1.8.2-py3-none-any.whl size=11137 sha256=4a2d040b71d1e565834e1a10fc948ad4d82f69e0e9fc8f7c6ef869ee4bc01496\n",
            "  Stored in directory: /root/.cache/pip/wheels/9f/18/84/8f69f8b08169c7bae2dde6bd7daf0c19fca8c8e500ee620a28\n",
            "Successfully built pyperclip\n",
            "Installing collected packages: pyperclip, pbr, stevedore, Mako, cmd2, autopage, colorlog, cmaes, cliff, alembic, optuna\n",
            "Successfully installed Mako-1.2.3 alembic-1.8.1 autopage-0.5.1 cliff-3.10.1 cmaes-0.8.2 cmd2-2.4.2 colorlog-6.7.0 optuna-3.0.3 pbr-5.11.0 pyperclip-1.8.2 stevedore-3.5.2\n"
          ]
        }
      ]
    },
    {
      "cell_type": "code",
      "source": [
        "import optuna\n",
        "from sklearn.metrics import accuracy_score\n",
        "import xgboost as xgb\n",
        "def objective(trial,data=train,target=test):\n",
        "    \n",
        "    # train_x, test_x, train_y, test_y = train_test_split(data, target, test_size=0.1,random_state=42)\n",
        "    param = {\n",
        "        'tree_method':'gpu_hist',\n",
        "        'lambda': trial.suggest_loguniform('lambda', 1e-3, 10.0),\n",
        "        'alpha': trial.suggest_loguniform('alpha', 1e-3, 10.0),\n",
        "        'colsample_bytree': trial.suggest_categorical('colsample_bytree', [0.3,0.4,0.5,0.6,0.7,0.8,0.9, 1.0]),\n",
        "        'subsample': trial.suggest_categorical('subsample', [0.4,0.5,0.6,0.7,0.8,1.0]),\n",
        "        'learning_rate': trial.suggest_categorical('learning_rate', [0.008,0.01,0.012,0.014,0.016,0.018, 0.02]),\n",
        "        'n_estimators': trial.suggest_int('n_estimators', 50, 400), \n",
        "        'max_depth': trial.suggest_categorical('max_depth', [5,7,9,11,13,15,17]),\n",
        "        'random_state': trial.suggest_categorical('random_state', [42]),\n",
        "        'min_child_weight': trial.suggest_int('min_child_weight', 1, 300),\n",
        "        'objective':'multi:softmax',\n",
        "        'num_class':8\n",
        "    }\n",
        "    model = xgb.XGBClassifier(**param)  \n",
        "    model.fit(new_X_train,y_resampled,eval_set=[(new_X_test,y_test)],early_stopping_rounds=100,verbose=False)\n",
        "    preds = model.predict(new_X_test)\n",
        "    # model.fit(train_x,train_y,eval_set=[(test_x,test_y)],early_stopping_rounds=100,verbose=False)\n",
        "    # preds = model.predict(test_x)\n",
        "    \n",
        "    accuracy = accuracy_score(y_test, preds)\n",
        "    \n",
        "    return accuracy\n",
        "\n",
        "study = optuna.create_study(direction='maximize')\n",
        "study.optimize(objective, n_trials=30)\n",
        "print('Number of finished trials:', len(study.trials))\n",
        "print('Best trial:', study.best_trial.params)"
      ],
      "metadata": {
        "colab": {
          "base_uri": "https://localhost:8080/"
        },
        "id": "gioIF_kN5Q9U",
        "outputId": "3723dc1d-4b71-4432-d713-84281d1e1daa"
      },
      "execution_count": null,
      "outputs": [
        {
          "output_type": "stream",
          "name": "stderr",
          "text": [
            "\u001b[32m[I 2022-11-02 08:39:33,191]\u001b[0m A new study created in memory with name: no-name-59fc92bf-8f20-4ab3-8223-d3b09ea994d4\u001b[0m\n",
            "\u001b[32m[I 2022-11-02 08:39:54,567]\u001b[0m Trial 0 finished with value: 0.5321489001692047 and parameters: {'lambda': 6.810421304650375, 'alpha': 2.479926694884646, 'colsample_bytree': 0.5, 'subsample': 0.5, 'learning_rate': 0.02, 'n_estimators': 391, 'max_depth': 15, 'random_state': 42, 'min_child_weight': 161}. Best is trial 0 with value: 0.5321489001692047.\u001b[0m\n",
            "\u001b[32m[I 2022-11-02 08:40:13,096]\u001b[0m Trial 1 finished with value: 0.538917089678511 and parameters: {'lambda': 0.007043561823824295, 'alpha': 0.20196567765639264, 'colsample_bytree': 0.7, 'subsample': 1.0, 'learning_rate': 0.016, 'n_estimators': 268, 'max_depth': 9, 'random_state': 42, 'min_child_weight': 124}. Best is trial 1 with value: 0.538917089678511.\u001b[0m\n",
            "\u001b[32m[I 2022-11-02 08:40:58,051]\u001b[0m Trial 2 finished with value: 0.6015228426395939 and parameters: {'lambda': 3.7052732792345875, 'alpha': 1.1014165840113364, 'colsample_bytree': 0.7, 'subsample': 0.4, 'learning_rate': 0.018, 'n_estimators': 333, 'max_depth': 11, 'random_state': 42, 'min_child_weight': 6}. Best is trial 2 with value: 0.6015228426395939.\u001b[0m\n",
            "\u001b[32m[I 2022-11-02 08:41:19,940]\u001b[0m Trial 3 finished with value: 0.5490693739424704 and parameters: {'lambda': 0.06942011965213322, 'alpha': 2.5659163699865033, 'colsample_bytree': 0.7, 'subsample': 0.8, 'learning_rate': 0.014, 'n_estimators': 387, 'max_depth': 5, 'random_state': 42, 'min_child_weight': 5}. Best is trial 2 with value: 0.6015228426395939.\u001b[0m\n",
            "\u001b[32m[I 2022-11-02 08:41:27,306]\u001b[0m Trial 4 finished with value: 0.46277495769881555 and parameters: {'lambda': 4.083436478429829, 'alpha': 1.3631341095596536, 'colsample_bytree': 0.6, 'subsample': 0.8, 'learning_rate': 0.01, 'n_estimators': 122, 'max_depth': 17, 'random_state': 42, 'min_child_weight': 259}. Best is trial 2 with value: 0.6015228426395939.\u001b[0m\n",
            "\u001b[32m[I 2022-11-02 08:41:35,234]\u001b[0m Trial 5 finished with value: 0.5228426395939086 and parameters: {'lambda': 0.0037999632438474457, 'alpha': 0.798436447687586, 'colsample_bytree': 0.7, 'subsample': 0.8, 'learning_rate': 0.018, 'n_estimators': 100, 'max_depth': 11, 'random_state': 42, 'min_child_weight': 91}. Best is trial 2 with value: 0.6015228426395939.\u001b[0m\n",
            "\u001b[32m[I 2022-11-02 08:41:54,024]\u001b[0m Trial 6 finished with value: 0.5169204737732657 and parameters: {'lambda': 1.204817441708202, 'alpha': 0.0011610118489703352, 'colsample_bytree': 0.9, 'subsample': 0.5, 'learning_rate': 0.02, 'n_estimators': 324, 'max_depth': 17, 'random_state': 42, 'min_child_weight': 198}. Best is trial 2 with value: 0.6015228426395939.\u001b[0m\n",
            "\u001b[32m[I 2022-11-02 08:41:58,803]\u001b[0m Trial 7 finished with value: 0.46362098138747887 and parameters: {'lambda': 0.05139577649111639, 'alpha': 0.7646126713490082, 'colsample_bytree': 0.7, 'subsample': 1.0, 'learning_rate': 0.016, 'n_estimators': 80, 'max_depth': 11, 'random_state': 42, 'min_child_weight': 281}. Best is trial 2 with value: 0.6015228426395939.\u001b[0m\n",
            "\u001b[32m[I 2022-11-02 08:42:08,450]\u001b[0m Trial 8 finished with value: 0.4686971235194585 and parameters: {'lambda': 0.00780563552346145, 'alpha': 0.0021696773461814317, 'colsample_bytree': 0.5, 'subsample': 0.5, 'learning_rate': 0.008, 'n_estimators': 178, 'max_depth': 7, 'random_state': 42, 'min_child_weight': 171}. Best is trial 2 with value: 0.6015228426395939.\u001b[0m\n",
            "\u001b[32m[I 2022-11-02 08:42:44,492]\u001b[0m Trial 9 finished with value: 0.571912013536379 and parameters: {'lambda': 0.2202931763801456, 'alpha': 0.45641592900829847, 'colsample_bytree': 0.8, 'subsample': 1.0, 'learning_rate': 0.012, 'n_estimators': 275, 'max_depth': 15, 'random_state': 42, 'min_child_weight': 44}. Best is trial 2 with value: 0.6015228426395939.\u001b[0m\n",
            "\u001b[32m[I 2022-11-02 08:42:59,721]\u001b[0m Trial 10 finished with value: 0.5313028764805414 and parameters: {'lambda': 0.7617347832026239, 'alpha': 0.026965479272521464, 'colsample_bytree': 1.0, 'subsample': 0.4, 'learning_rate': 0.018, 'n_estimators': 212, 'max_depth': 13, 'random_state': 42, 'min_child_weight': 69}. Best is trial 2 with value: 0.6015228426395939.\u001b[0m\n",
            "\u001b[32m[I 2022-11-02 08:44:29,528]\u001b[0m Trial 11 finished with value: 0.5998307952622673 and parameters: {'lambda': 0.40802640631189224, 'alpha': 0.0841513544602692, 'colsample_bytree': 0.8, 'subsample': 0.4, 'learning_rate': 0.012, 'n_estimators': 291, 'max_depth': 15, 'random_state': 42, 'min_child_weight': 2}. Best is trial 2 with value: 0.6015228426395939.\u001b[0m\n",
            "\u001b[32m[I 2022-11-02 08:45:56,165]\u001b[0m Trial 12 finished with value: 0.5998307952622673 and parameters: {'lambda': 0.9076210169101235, 'alpha': 0.03456283487219191, 'colsample_bytree': 0.8, 'subsample': 0.4, 'learning_rate': 0.012, 'n_estimators': 320, 'max_depth': 15, 'random_state': 42, 'min_child_weight': 2}. Best is trial 2 with value: 0.6015228426395939.\u001b[0m\n",
            "\u001b[32m[I 2022-11-02 08:46:23,658]\u001b[0m Trial 13 finished with value: 0.5744500846023689 and parameters: {'lambda': 0.26084884854906876, 'alpha': 0.07828270701587943, 'colsample_bytree': 0.3, 'subsample': 0.7, 'learning_rate': 0.018, 'n_estimators': 326, 'max_depth': 11, 'random_state': 42, 'min_child_weight': 38}. Best is trial 2 with value: 0.6015228426395939.\u001b[0m\n",
            "\u001b[32m[I 2022-11-02 08:46:41,481]\u001b[0m Trial 14 finished with value: 0.5253807106598984 and parameters: {'lambda': 2.283759385078362, 'alpha': 0.006873026897385728, 'colsample_bytree': 0.4, 'subsample': 0.6, 'learning_rate': 0.012, 'n_estimators': 270, 'max_depth': 13, 'random_state': 42, 'min_child_weight': 103}. Best is trial 2 with value: 0.6015228426395939.\u001b[0m\n",
            "\u001b[32m[I 2022-11-02 08:47:04,800]\u001b[0m Trial 15 finished with value: 0.5236886632825719 and parameters: {'lambda': 0.02689454980163755, 'alpha': 6.184940054463256, 'colsample_bytree': 0.8, 'subsample': 0.4, 'learning_rate': 0.008, 'n_estimators': 351, 'max_depth': 7, 'random_state': 42, 'min_child_weight': 51}. Best is trial 2 with value: 0.6015228426395939.\u001b[0m\n",
            "\u001b[32m[I 2022-11-02 08:47:17,221]\u001b[0m Trial 16 finished with value: 0.5338409475465313 and parameters: {'lambda': 0.001227981812748675, 'alpha': 0.14067525755484, 'colsample_bytree': 0.3, 'subsample': 0.4, 'learning_rate': 0.014, 'n_estimators': 230, 'max_depth': 5, 'random_state': 42, 'min_child_weight': 5}. Best is trial 2 with value: 0.6015228426395939.\u001b[0m\n",
            "\u001b[32m[I 2022-11-02 08:47:36,732]\u001b[0m Trial 17 finished with value: 0.4966159052453469 and parameters: {'lambda': 8.27055735808776, 'alpha': 0.022752177380837, 'colsample_bytree': 0.4, 'subsample': 0.4, 'learning_rate': 0.01, 'n_estimators': 352, 'max_depth': 9, 'random_state': 42, 'min_child_weight': 124}. Best is trial 2 with value: 0.6015228426395939.\u001b[0m\n",
            "\u001b[32m[I 2022-11-02 08:47:47,224]\u001b[0m Trial 18 finished with value: 0.49746192893401014 and parameters: {'lambda': 0.26357286685142617, 'alpha': 0.28579521988173967, 'colsample_bytree': 1.0, 'subsample': 0.7, 'learning_rate': 0.018, 'n_estimators': 178, 'max_depth': 15, 'random_state': 42, 'min_child_weight': 244}. Best is trial 2 with value: 0.6015228426395939.\u001b[0m\n",
            "\u001b[32m[I 2022-11-02 08:48:19,178]\u001b[0m Trial 19 finished with value: 0.5685279187817259 and parameters: {'lambda': 2.0670002325805967, 'alpha': 0.023127373982894897, 'colsample_bytree': 0.6, 'subsample': 0.6, 'learning_rate': 0.012, 'n_estimators': 325, 'max_depth': 11, 'random_state': 42, 'min_child_weight': 31}. Best is trial 2 with value: 0.6015228426395939.\u001b[0m\n",
            "\u001b[32m[I 2022-11-02 08:48:35,115]\u001b[0m Trial 20 finished with value: 0.5287648054145516 and parameters: {'lambda': 0.8285601941642022, 'alpha': 0.0052833899348811815, 'colsample_bytree': 0.9, 'subsample': 0.4, 'learning_rate': 0.018, 'n_estimators': 236, 'max_depth': 15, 'random_state': 42, 'min_child_weight': 82}. Best is trial 2 with value: 0.6015228426395939.\u001b[0m\n",
            "\u001b[32m[I 2022-11-02 08:49:16,864]\u001b[0m Trial 21 finished with value: 0.583756345177665 and parameters: {'lambda': 0.46444780326914425, 'alpha': 0.063036682301703, 'colsample_bytree': 0.8, 'subsample': 0.4, 'learning_rate': 0.012, 'n_estimators': 296, 'max_depth': 15, 'random_state': 42, 'min_child_weight': 14}. Best is trial 2 with value: 0.6015228426395939.\u001b[0m\n",
            "\u001b[32m[I 2022-11-02 08:49:39,473]\u001b[0m Trial 22 finished with value: 0.5355329949238579 and parameters: {'lambda': 2.456397909247966, 'alpha': 0.050094183599876746, 'colsample_bytree': 0.8, 'subsample': 0.4, 'learning_rate': 0.012, 'n_estimators': 302, 'max_depth': 15, 'random_state': 42, 'min_child_weight': 61}. Best is trial 2 with value: 0.6015228426395939.\u001b[0m\n",
            "\u001b[32m[I 2022-11-02 08:50:18,095]\u001b[0m Trial 23 finished with value: 0.5736040609137056 and parameters: {'lambda': 0.1429126561560891, 'alpha': 0.010474365095447401, 'colsample_bytree': 0.8, 'subsample': 0.4, 'learning_rate': 0.012, 'n_estimators': 360, 'max_depth': 15, 'random_state': 42, 'min_child_weight': 25}. Best is trial 2 with value: 0.6015228426395939.\u001b[0m\n",
            "\u001b[32m[I 2022-11-02 08:51:29,059]\u001b[0m Trial 24 finished with value: 0.5905245346869712 and parameters: {'lambda': 0.5210086505997789, 'alpha': 9.32678744410553, 'colsample_bytree': 0.8, 'subsample': 0.4, 'learning_rate': 0.012, 'n_estimators': 295, 'max_depth': 11, 'random_state': 42, 'min_child_weight': 1}. Best is trial 2 with value: 0.6015228426395939.\u001b[0m\n",
            "\u001b[32m[I 2022-11-02 08:51:53,310]\u001b[0m Trial 25 finished with value: 0.5473773265651438 and parameters: {'lambda': 1.3217496189933966, 'alpha': 0.12673303720610818, 'colsample_bytree': 0.8, 'subsample': 0.4, 'learning_rate': 0.012, 'n_estimators': 253, 'max_depth': 15, 'random_state': 42, 'min_child_weight': 33}. Best is trial 2 with value: 0.6015228426395939.\u001b[0m\n",
            "\u001b[32m[I 2022-11-02 08:52:11,150]\u001b[0m Trial 26 finished with value: 0.4983079526226734 and parameters: {'lambda': 3.425563549649674, 'alpha': 0.04250324393238688, 'colsample_bytree': 0.7, 'subsample': 0.4, 'learning_rate': 0.016, 'n_estimators': 373, 'max_depth': 5, 'random_state': 42, 'min_child_weight': 214}. Best is trial 2 with value: 0.6015228426395939.\u001b[0m\n",
            "\u001b[32m[I 2022-11-02 08:52:25,371]\u001b[0m Trial 27 finished with value: 0.4906937394247039 and parameters: {'lambda': 9.986594713304255, 'alpha': 0.31919339399952024, 'colsample_bytree': 0.8, 'subsample': 0.6, 'learning_rate': 0.008, 'n_estimators': 193, 'max_depth': 17, 'random_state': 42, 'min_child_weight': 109}. Best is trial 2 with value: 0.6015228426395939.\u001b[0m\n",
            "\u001b[32m[I 2022-11-02 08:52:45,508]\u001b[0m Trial 28 finished with value: 0.5329949238578681 and parameters: {'lambda': 0.47143484608449493, 'alpha': 0.10978730721248148, 'colsample_bytree': 0.3, 'subsample': 0.7, 'learning_rate': 0.01, 'n_estimators': 328, 'max_depth': 7, 'random_state': 42, 'min_child_weight': 71}. Best is trial 2 with value: 0.6015228426395939.\u001b[0m\n",
            "\u001b[32m[I 2022-11-02 08:53:02,214]\u001b[0m Trial 29 finished with value: 0.5109983079526227 and parameters: {'lambda': 3.797697625164652, 'alpha': 2.4615432047653854, 'colsample_bytree': 0.9, 'subsample': 0.4, 'learning_rate': 0.02, 'n_estimators': 295, 'max_depth': 15, 'random_state': 42, 'min_child_weight': 151}. Best is trial 2 with value: 0.6015228426395939.\u001b[0m\n"
          ]
        },
        {
          "output_type": "stream",
          "name": "stdout",
          "text": [
            "Number of finished trials: 30\n",
            "Best trial: {'lambda': 3.7052732792345875, 'alpha': 1.1014165840113364, 'colsample_bytree': 0.7, 'subsample': 0.4, 'learning_rate': 0.018, 'n_estimators': 333, 'max_depth': 11, 'random_state': 42, 'min_child_weight': 6}\n"
          ]
        }
      ]
    },
    {
      "cell_type": "code",
      "source": [
        "import xgboost as xgb\n",
        "from sklearn.metrics import accuracy_score\n",
        "\n",
        "param = {'tree_method':'gpu_hist','lambda': 3.7052732792345875, 'alpha': 1.1014165840113364, 'colsample_bytree': 0.7, 'subsample': 0.4, 'learning_rate': 0.018, 'n_estimators': 333, 'max_depth': 11, 'random_state': 42, 'min_child_weight': 6}\n",
        "model = xgb.XGBClassifier(**param)  \n",
        "    \n",
        "model.fit(new_X_train,y_resampled)\n",
        "preds = model.predict(new_X_test)\n",
        "\n",
        "accuracy = accuracy_score(y_test, preds)\n",
        "accuracy"
      ],
      "metadata": {
        "colab": {
          "base_uri": "https://localhost:8080/"
        },
        "id": "Rxzyqz3rzWGi",
        "outputId": "9895f7b4-036a-44d0-b49f-fe959b1d6d0d"
      },
      "execution_count": null,
      "outputs": [
        {
          "output_type": "execute_result",
          "data": {
            "text/plain": [
              "0.5981387478849408"
            ]
          },
          "metadata": {},
          "execution_count": 21
        }
      ]
    },
    {
      "cell_type": "code",
      "source": [
        "param = {'tree_method':'gpu_hist','lambda': 0.0011700696464475215, 'alpha': 0.006404103458455473, 'colsample_bytree': 0.6, 'subsample': 0.7, 'learning_rate': 0.012, 'n_estimators': 157, 'max_depth': 17, 'random_state': 42, 'min_child_weight': 2}\n",
        "model = xgb.XGBClassifier(**param)  \n",
        "    \n",
        "model.fit(new_X_train,y_resampled,eval_set=[(new_X_test,y_test)],early_stopping_rounds=100,verbose = False)\n",
        "preds = model.predict(new_X_test)\n",
        "\n",
        "accuracy = accuracy_score(y_test, preds)\n",
        "accuracy"
      ],
      "metadata": {
        "id": "v_WqNC7MDblu",
        "colab": {
          "base_uri": "https://localhost:8080/"
        },
        "outputId": "7885820b-faf9-477a-ec7c-5e75303953f0"
      },
      "execution_count": null,
      "outputs": [
        {
          "output_type": "execute_result",
          "data": {
            "text/plain": [
              "0.5930626057529611"
            ]
          },
          "metadata": {},
          "execution_count": 37
        }
      ]
    },
    {
      "cell_type": "code",
      "source": [
        "param\n",
        "parameters = pd.DataFrame(param.values(),index = param.keys(),columns=['Values'])\n",
        "parameters"
      ],
      "metadata": {
        "colab": {
          "base_uri": "https://localhost:8080/",
          "height": 363
        },
        "id": "fp1JNtN-ki2P",
        "outputId": "023da1b7-3a95-4c89-df98-ff238867acfd"
      },
      "execution_count": null,
      "outputs": [
        {
          "output_type": "execute_result",
          "data": {
            "text/plain": [
              "                    Values\n",
              "tree_method       gpu_hist\n",
              "lambda            3.705273\n",
              "alpha             1.101417\n",
              "colsample_bytree       0.7\n",
              "subsample              0.4\n",
              "learning_rate        0.018\n",
              "n_estimators           333\n",
              "max_depth               11\n",
              "random_state            42\n",
              "min_child_weight         6"
            ],
            "text/html": [
              "\n",
              "  <div id=\"df-6d8d7643-fd40-4ef2-94c8-64deb7e902d4\">\n",
              "    <div class=\"colab-df-container\">\n",
              "      <div>\n",
              "<style scoped>\n",
              "    .dataframe tbody tr th:only-of-type {\n",
              "        vertical-align: middle;\n",
              "    }\n",
              "\n",
              "    .dataframe tbody tr th {\n",
              "        vertical-align: top;\n",
              "    }\n",
              "\n",
              "    .dataframe thead th {\n",
              "        text-align: right;\n",
              "    }\n",
              "</style>\n",
              "<table border=\"1\" class=\"dataframe\">\n",
              "  <thead>\n",
              "    <tr style=\"text-align: right;\">\n",
              "      <th></th>\n",
              "      <th>Values</th>\n",
              "    </tr>\n",
              "  </thead>\n",
              "  <tbody>\n",
              "    <tr>\n",
              "      <th>tree_method</th>\n",
              "      <td>gpu_hist</td>\n",
              "    </tr>\n",
              "    <tr>\n",
              "      <th>lambda</th>\n",
              "      <td>3.705273</td>\n",
              "    </tr>\n",
              "    <tr>\n",
              "      <th>alpha</th>\n",
              "      <td>1.101417</td>\n",
              "    </tr>\n",
              "    <tr>\n",
              "      <th>colsample_bytree</th>\n",
              "      <td>0.7</td>\n",
              "    </tr>\n",
              "    <tr>\n",
              "      <th>subsample</th>\n",
              "      <td>0.4</td>\n",
              "    </tr>\n",
              "    <tr>\n",
              "      <th>learning_rate</th>\n",
              "      <td>0.018</td>\n",
              "    </tr>\n",
              "    <tr>\n",
              "      <th>n_estimators</th>\n",
              "      <td>333</td>\n",
              "    </tr>\n",
              "    <tr>\n",
              "      <th>max_depth</th>\n",
              "      <td>11</td>\n",
              "    </tr>\n",
              "    <tr>\n",
              "      <th>random_state</th>\n",
              "      <td>42</td>\n",
              "    </tr>\n",
              "    <tr>\n",
              "      <th>min_child_weight</th>\n",
              "      <td>6</td>\n",
              "    </tr>\n",
              "  </tbody>\n",
              "</table>\n",
              "</div>\n",
              "      <button class=\"colab-df-convert\" onclick=\"convertToInteractive('df-6d8d7643-fd40-4ef2-94c8-64deb7e902d4')\"\n",
              "              title=\"Convert this dataframe to an interactive table.\"\n",
              "              style=\"display:none;\">\n",
              "        \n",
              "  <svg xmlns=\"http://www.w3.org/2000/svg\" height=\"24px\"viewBox=\"0 0 24 24\"\n",
              "       width=\"24px\">\n",
              "    <path d=\"M0 0h24v24H0V0z\" fill=\"none\"/>\n",
              "    <path d=\"M18.56 5.44l.94 2.06.94-2.06 2.06-.94-2.06-.94-.94-2.06-.94 2.06-2.06.94zm-11 1L8.5 8.5l.94-2.06 2.06-.94-2.06-.94L8.5 2.5l-.94 2.06-2.06.94zm10 10l.94 2.06.94-2.06 2.06-.94-2.06-.94-.94-2.06-.94 2.06-2.06.94z\"/><path d=\"M17.41 7.96l-1.37-1.37c-.4-.4-.92-.59-1.43-.59-.52 0-1.04.2-1.43.59L10.3 9.45l-7.72 7.72c-.78.78-.78 2.05 0 2.83L4 21.41c.39.39.9.59 1.41.59.51 0 1.02-.2 1.41-.59l7.78-7.78 2.81-2.81c.8-.78.8-2.07 0-2.86zM5.41 20L4 18.59l7.72-7.72 1.47 1.35L5.41 20z\"/>\n",
              "  </svg>\n",
              "      </button>\n",
              "      \n",
              "  <style>\n",
              "    .colab-df-container {\n",
              "      display:flex;\n",
              "      flex-wrap:wrap;\n",
              "      gap: 12px;\n",
              "    }\n",
              "\n",
              "    .colab-df-convert {\n",
              "      background-color: #E8F0FE;\n",
              "      border: none;\n",
              "      border-radius: 50%;\n",
              "      cursor: pointer;\n",
              "      display: none;\n",
              "      fill: #1967D2;\n",
              "      height: 32px;\n",
              "      padding: 0 0 0 0;\n",
              "      width: 32px;\n",
              "    }\n",
              "\n",
              "    .colab-df-convert:hover {\n",
              "      background-color: #E2EBFA;\n",
              "      box-shadow: 0px 1px 2px rgba(60, 64, 67, 0.3), 0px 1px 3px 1px rgba(60, 64, 67, 0.15);\n",
              "      fill: #174EA6;\n",
              "    }\n",
              "\n",
              "    [theme=dark] .colab-df-convert {\n",
              "      background-color: #3B4455;\n",
              "      fill: #D2E3FC;\n",
              "    }\n",
              "\n",
              "    [theme=dark] .colab-df-convert:hover {\n",
              "      background-color: #434B5C;\n",
              "      box-shadow: 0px 1px 3px 1px rgba(0, 0, 0, 0.15);\n",
              "      filter: drop-shadow(0px 1px 2px rgba(0, 0, 0, 0.3));\n",
              "      fill: #FFFFFF;\n",
              "    }\n",
              "  </style>\n",
              "\n",
              "      <script>\n",
              "        const buttonEl =\n",
              "          document.querySelector('#df-6d8d7643-fd40-4ef2-94c8-64deb7e902d4 button.colab-df-convert');\n",
              "        buttonEl.style.display =\n",
              "          google.colab.kernel.accessAllowed ? 'block' : 'none';\n",
              "\n",
              "        async function convertToInteractive(key) {\n",
              "          const element = document.querySelector('#df-6d8d7643-fd40-4ef2-94c8-64deb7e902d4');\n",
              "          const dataTable =\n",
              "            await google.colab.kernel.invokeFunction('convertToInteractive',\n",
              "                                                     [key], {});\n",
              "          if (!dataTable) return;\n",
              "\n",
              "          const docLinkHtml = 'Like what you see? Visit the ' +\n",
              "            '<a target=\"_blank\" href=https://colab.research.google.com/notebooks/data_table.ipynb>data table notebook</a>'\n",
              "            + ' to learn more about interactive tables.';\n",
              "          element.innerHTML = '';\n",
              "          dataTable['output_type'] = 'display_data';\n",
              "          await google.colab.output.renderOutput(dataTable, element);\n",
              "          const docLink = document.createElement('div');\n",
              "          docLink.innerHTML = docLinkHtml;\n",
              "          element.appendChild(docLink);\n",
              "        }\n",
              "      </script>\n",
              "    </div>\n",
              "  </div>\n",
              "  "
            ]
          },
          "metadata": {},
          "execution_count": 48
        }
      ]
    },
    {
      "cell_type": "code",
      "source": [
        "from sklearn.metrics import confusion_matrix\n",
        "from sklearn.metrics import classification_report\n",
        "import seaborn as sns\n",
        "\n",
        "\n",
        "print(accuracy_score(y_test, preds))\n",
        "cm = confusion_matrix(y_test, preds)\n",
        "sns.heatmap(cm, annot=True, fmt=\"d\")\n",
        "print(classification_report(y_test, preds))"
      ],
      "metadata": {
        "colab": {
          "base_uri": "https://localhost:8080/",
          "height": 543
        },
        "id": "OyQ5I92YOZZM",
        "outputId": "e5933222-eca0-477a-ad62-8d28c325f32f"
      },
      "execution_count": null,
      "outputs": [
        {
          "output_type": "stream",
          "name": "stdout",
          "text": [
            "0.5981387478849408\n",
            "              precision    recall  f1-score   support\n",
            "\n",
            "           0       0.40      0.35      0.37        55\n",
            "           1       0.66      0.73      0.69        78\n",
            "           2       0.48      0.40      0.44       172\n",
            "           3       0.40      0.31      0.35       116\n",
            "           4       0.57      0.80      0.67        65\n",
            "           5       0.78      0.85      0.81       362\n",
            "           6       0.54      0.55      0.54       198\n",
            "           7       0.46      0.43      0.45       136\n",
            "\n",
            "    accuracy                           0.60      1182\n",
            "   macro avg       0.54      0.55      0.54      1182\n",
            "weighted avg       0.58      0.60      0.59      1182\n",
            "\n"
          ]
        },
        {
          "output_type": "display_data",
          "data": {
            "text/plain": [
              "<Figure size 432x288 with 2 Axes>"
            ],
            "image/png": "[encoded data removed]"
          },
          "metadata": {
            "needs_background": "light"
          }
        }
      ]
    },
    {
      "cell_type": "code",
      "source": [
        "y_test.value_counts()"
      ],
      "metadata": {
        "colab": {
          "base_uri": "https://localhost:8080/"
        },
        "id": "q0zvRWICD5AI",
        "outputId": "a105c48d-a7c4-481f-cf0a-8ba8d6597325"
      },
      "execution_count": null,
      "outputs": [
        {
          "output_type": "execute_result",
          "data": {
            "text/plain": [
              "5    362\n",
              "6    198\n",
              "2    172\n",
              "7    136\n",
              "3    116\n",
              "1     78\n",
              "4     65\n",
              "0     55\n",
              "Name: SEQ, dtype: int64"
            ]
          },
          "metadata": {},
          "execution_count": 50
        }
      ]
    },
    {
      "cell_type": "code",
      "source": [
        "FP = cm.sum(axis=0) - np.diag(cm) \n",
        "FN = cm.sum(axis=1) - np.diag(cm)\n",
        "TP = np.diag(cm)\n",
        "TN = cm.sum() - (FP + FN + TP)\n",
        "FP = FP.astype(float)\n",
        "FN = FN.astype(float)\n",
        "TP = TP.astype(float)\n",
        "TN = TN.astype(float)\n",
        "# Sensitivity, hit rate, recall, or true positive rate\n",
        "TPR = TP/(TP+FN)\n",
        "# Specificity or true negative rate\n",
        "TNR = TN/(TN+FP) \n",
        "# Precision or positive predictive value\n",
        "PPV = TP/(TP+FP)\n",
        "# Negative predictive value\n",
        "NPV = TN/(TN+FN)\n",
        "# Fall out or false positive rate\n",
        "FPR = FP/(FP+TN)\n",
        "# False negative rate\n",
        "FNR = FN/(TP+FN)\n",
        "# False discovery rate\n",
        "FDR = FP/(TP+FP)\n",
        "# Overall accuracy for each class\n",
        "ACC = (TP+TN)/(TP+FP+FN+TN)"
      ],
      "metadata": {
        "id": "_H8OH5vmRliu"
      },
      "execution_count": null,
      "outputs": []
    },
    {
      "cell_type": "code",
      "source": [
        "sensitivity =TP/(TP+FN)\n",
        "specificity = TN/(TN+FP)\n",
        "precision = TP/(TP+FP)\n",
        "recall = TP/(TP+FN)\n",
        "f1_score = 2*precision*recall/(precision + recall)\n",
        "MCC = ((TP*TN) + (FP*FN))/np.sqrt((TP + FP)*(TP + FN)*(TN + FP)*(TN + FN))"
      ],
      "metadata": {
        "id": "ujsD_KO50J8B"
      },
      "execution_count": null,
      "outputs": []
    },
    {
      "cell_type": "code",
      "source": [
        "sensitivity,specificity,precision,recall,f1_score,MCC,ACC"
      ],
      "metadata": {
        "colab": {
          "base_uri": "https://localhost:8080/"
        },
        "id": "IYQoSouc8z7s",
        "outputId": "2a088d73-5cca-4edf-b94d-cd4fa7608508"
      },
      "execution_count": null,
      "outputs": [
        {
          "output_type": "execute_result",
          "data": {
            "text/plain": [
              "(array([0.84313725, 0.84473684, 0.56603774, 0.63043478, 0.9675    ,\n",
              "        0.80417755, 0.5799458 , 0.56790123]),\n",
              " array([0.96823617, 0.9785503 , 0.9495024 , 0.95949926, 0.96497765,\n",
              "        0.95372084, 0.95359116, 0.96155282]),\n",
              " array([0.8018648 , 0.8469657 , 0.60518732, 0.67836257, 0.8045738 ,\n",
              "        0.7113164 , 0.62941176, 0.69069069]),\n",
              " array([0.84313725, 0.84473684, 0.56603774, 0.63043478, 0.9675    ,\n",
              "        0.80417755, 0.5799458 , 0.56790123]),\n",
              " array([0.82198327, 0.8458498 , 0.58495822, 0.65352113, 0.87854711,\n",
              "        0.75490196, 0.60366714, 0.62330623]),\n",
              " array([0.80414513, 0.83088841, 0.57584755, 0.63994433, 0.86558358,\n",
              "        0.73669492, 0.59328226, 0.61236159]),\n",
              " array([0.95168612, 0.96206226, 0.90337224, 0.92023346, 0.9653048 ,\n",
              "        0.93514916, 0.90888457, 0.90985733]))"
            ]
          },
          "metadata": {},
          "execution_count": 60
        }
      ]
    },
    {
      "cell_type": "code",
      "source": [
        "index = ['Sensitivity','Specificity','Precision','F1_Score','MCC','Accuracy']\n",
        "columns = ['Mammalias', 'Rice', 'Rodent', 'Rumin', 'Sauria', 'Insect', 'Human', 'Aves']\n",
        "df = pd.DataFrame([sensitivity,specificity,precision,f1_score,MCC,ACC],index=index,columns=columns)\n",
        "df"
      ],
      "metadata": {
        "colab": {
          "base_uri": "https://localhost:8080/",
          "height": 237
        },
        "id": "HHdy7Ygl8U4s",
        "outputId": "2966a4b6-3221-42f0-934c-3ff08d460daf"
      },
      "execution_count": null,
      "outputs": [
        {
          "output_type": "execute_result",
          "data": {
            "text/plain": [
              "             Mammalias      Rice    Rodent     Rumin    Sauria    Insect  \\\n",
              "Sensitivity   0.345455  0.730769  0.401163  0.310345  0.800000  0.848066   \n",
              "Specificity   0.975155  0.972826  0.924752  0.950281  0.965085  0.893902   \n",
              "Precision     0.404255  0.655172  0.475862  0.404494  0.571429  0.779188   \n",
              "F1_Score      0.372549  0.690909  0.435331  0.351220  0.666667  0.812169   \n",
              "MCC           0.380659  0.682853  0.447181  0.371165  0.666218  0.757021   \n",
              "Accuracy      0.945854  0.956853  0.848562  0.887479  0.956007  0.879865   \n",
              "\n",
              "                Human      Aves  \n",
              "Sensitivity  0.545455  0.433824  \n",
              "Specificity  0.905488  0.934034  \n",
              "Precision    0.537313  0.460938  \n",
              "F1_Score     0.541353  0.446970  \n",
              "MCC          0.533655  0.454440  \n",
              "Accuracy     0.845178  0.876481  "
            ],
            "text/html": [
              "\n",
              "  <div id=\"df-273609a4-89da-4f4f-b4e1-ae647476534f\">\n",
              "    <div class=\"colab-df-container\">\n",
              "      <div>\n",
              "<style scoped>\n",
              "    .dataframe tbody tr th:only-of-type {\n",
              "        vertical-align: middle;\n",
              "    }\n",
              "\n",
              "    .dataframe tbody tr th {\n",
              "        vertical-align: top;\n",
              "    }\n",
              "\n",
              "    .dataframe thead th {\n",
              "        text-align: right;\n",
              "    }\n",
              "</style>\n",
              "<table border=\"1\" class=\"dataframe\">\n",
              "  <thead>\n",
              "    <tr style=\"text-align: right;\">\n",
              "      <th></th>\n",
              "      <th>Mammalias</th>\n",
              "      <th>Rice</th>\n",
              "      <th>Rodent</th>\n",
              "      <th>Rumin</th>\n",
              "      <th>Sauria</th>\n",
              "      <th>Insect</th>\n",
              "      <th>Human</th>\n",
              "      <th>Aves</th>\n",
              "    </tr>\n",
              "  </thead>\n",
              "  <tbody>\n",
              "    <tr>\n",
              "      <th>Sensitivity</th>\n",
              "      <td>0.345455</td>\n",
              "      <td>0.730769</td>\n",
              "      <td>0.401163</td>\n",
              "      <td>0.310345</td>\n",
              "      <td>0.800000</td>\n",
              "      <td>0.848066</td>\n",
              "      <td>0.545455</td>\n",
              "      <td>0.433824</td>\n",
              "    </tr>\n",
              "    <tr>\n",
              "      <th>Specificity</th>\n",
              "      <td>0.975155</td>\n",
              "      <td>0.972826</td>\n",
              "      <td>0.924752</td>\n",
              "      <td>0.950281</td>\n",
              "      <td>0.965085</td>\n",
              "      <td>0.893902</td>\n",
              "      <td>0.905488</td>\n",
              "      <td>0.934034</td>\n",
              "    </tr>\n",
              "    <tr>\n",
              "      <th>Precision</th>\n",
              "      <td>0.404255</td>\n",
              "      <td>0.655172</td>\n",
              "      <td>0.475862</td>\n",
              "      <td>0.404494</td>\n",
              "      <td>0.571429</td>\n",
              "      <td>0.779188</td>\n",
              "      <td>0.537313</td>\n",
              "      <td>0.460938</td>\n",
              "    </tr>\n",
              "    <tr>\n",
              "      <th>F1_Score</th>\n",
              "      <td>0.372549</td>\n",
              "      <td>0.690909</td>\n",
              "      <td>0.435331</td>\n",
              "      <td>0.351220</td>\n",
              "      <td>0.666667</td>\n",
              "      <td>0.812169</td>\n",
              "      <td>0.541353</td>\n",
              "      <td>0.446970</td>\n",
              "    </tr>\n",
              "    <tr>\n",
              "      <th>MCC</th>\n",
              "      <td>0.380659</td>\n",
              "      <td>0.682853</td>\n",
              "      <td>0.447181</td>\n",
              "      <td>0.371165</td>\n",
              "      <td>0.666218</td>\n",
              "      <td>0.757021</td>\n",
              "      <td>0.533655</td>\n",
              "      <td>0.454440</td>\n",
              "    </tr>\n",
              "    <tr>\n",
              "      <th>Accuracy</th>\n",
              "      <td>0.945854</td>\n",
              "      <td>0.956853</td>\n",
              "      <td>0.848562</td>\n",
              "      <td>0.887479</td>\n",
              "      <td>0.956007</td>\n",
              "      <td>0.879865</td>\n",
              "      <td>0.845178</td>\n",
              "      <td>0.876481</td>\n",
              "    </tr>\n",
              "  </tbody>\n",
              "</table>\n",
              "</div>\n",
              "      <button class=\"colab-df-convert\" onclick=\"convertToInteractive('df-273609a4-89da-4f4f-b4e1-ae647476534f')\"\n",
              "              title=\"Convert this dataframe to an interactive table.\"\n",
              "              style=\"display:none;\">\n",
              "        \n",
              "  <svg xmlns=\"http://www.w3.org/2000/svg\" height=\"24px\"viewBox=\"0 0 24 24\"\n",
              "       width=\"24px\">\n",
              "    <path d=\"M0 0h24v24H0V0z\" fill=\"none\"/>\n",
              "    <path d=\"M18.56 5.44l.94 2.06.94-2.06 2.06-.94-2.06-.94-.94-2.06-.94 2.06-2.06.94zm-11 1L8.5 8.5l.94-2.06 2.06-.94-2.06-.94L8.5 2.5l-.94 2.06-2.06.94zm10 10l.94 2.06.94-2.06 2.06-.94-2.06-.94-.94-2.06-.94 2.06-2.06.94z\"/><path d=\"M17.41 7.96l-1.37-1.37c-.4-.4-.92-.59-1.43-.59-.52 0-1.04.2-1.43.59L10.3 9.45l-7.72 7.72c-.78.78-.78 2.05 0 2.83L4 21.41c.39.39.9.59 1.41.59.51 0 1.02-.2 1.41-.59l7.78-7.78 2.81-2.81c.8-.78.8-2.07 0-2.86zM5.41 20L4 18.59l7.72-7.72 1.47 1.35L5.41 20z\"/>\n",
              "  </svg>\n",
              "      </button>\n",
              "      \n",
              "  <style>\n",
              "    .colab-df-container {\n",
              "      display:flex;\n",
              "      flex-wrap:wrap;\n",
              "      gap: 12px;\n",
              "    }\n",
              "\n",
              "    .colab-df-convert {\n",
              "      background-color: #E8F0FE;\n",
              "      border: none;\n",
              "      border-radius: 50%;\n",
              "      cursor: pointer;\n",
              "      display: none;\n",
              "      fill: #1967D2;\n",
              "      height: 32px;\n",
              "      padding: 0 0 0 0;\n",
              "      width: 32px;\n",
              "    }\n",
              "\n",
              "    .colab-df-convert:hover {\n",
              "      background-color: #E2EBFA;\n",
              "      box-shadow: 0px 1px 2px rgba(60, 64, 67, 0.3), 0px 1px 3px 1px rgba(60, 64, 67, 0.15);\n",
              "      fill: #174EA6;\n",
              "    }\n",
              "\n",
              "    [theme=dark] .colab-df-convert {\n",
              "      background-color: #3B4455;\n",
              "      fill: #D2E3FC;\n",
              "    }\n",
              "\n",
              "    [theme=dark] .colab-df-convert:hover {\n",
              "      background-color: #434B5C;\n",
              "      box-shadow: 0px 1px 3px 1px rgba(0, 0, 0, 0.15);\n",
              "      filter: drop-shadow(0px 1px 2px rgba(0, 0, 0, 0.3));\n",
              "      fill: #FFFFFF;\n",
              "    }\n",
              "  </style>\n",
              "\n",
              "      <script>\n",
              "        const buttonEl =\n",
              "          document.querySelector('#df-273609a4-89da-4f4f-b4e1-ae647476534f button.colab-df-convert');\n",
              "        buttonEl.style.display =\n",
              "          google.colab.kernel.accessAllowed ? 'block' : 'none';\n",
              "\n",
              "        async function convertToInteractive(key) {\n",
              "          const element = document.querySelector('#df-273609a4-89da-4f4f-b4e1-ae647476534f');\n",
              "          const dataTable =\n",
              "            await google.colab.kernel.invokeFunction('convertToInteractive',\n",
              "                                                     [key], {});\n",
              "          if (!dataTable) return;\n",
              "\n",
              "          const docLinkHtml = 'Like what you see? Visit the ' +\n",
              "            '<a target=\"_blank\" href=https://colab.research.google.com/notebooks/data_table.ipynb>data table notebook</a>'\n",
              "            + ' to learn more about interactive tables.';\n",
              "          element.innerHTML = '';\n",
              "          dataTable['output_type'] = 'display_data';\n",
              "          await google.colab.output.renderOutput(dataTable, element);\n",
              "          const docLink = document.createElement('div');\n",
              "          docLink.innerHTML = docLinkHtml;\n",
              "          element.appendChild(docLink);\n",
              "        }\n",
              "      </script>\n",
              "    </div>\n",
              "  </div>\n",
              "  "
            ]
          },
          "metadata": {},
          "execution_count": 27
        }
      ]
    },
    {
      "cell_type": "code",
      "source": [
        "model.save_model('/content/drive/MyDrive/BTP/xgb.json')"
      ],
      "metadata": {
        "id": "_94clC4p2w_-"
      },
      "execution_count": null,
      "outputs": []
    },
    {
      "cell_type": "code",
      "source": [
        "import pickle\n",
        "\n",
        "pickle.dump(model, open(\"/content/drive/MyDrive/BTP/xgb.sav\", \"wb\"))\n",
        "xgb = pickle.load(open(\"/content/drive/MyDrive/BTP/xgb.sav\", \"rb\"))\n"
      ],
      "metadata": {
        "id": "qVSTWU_029X8"
      },
      "execution_count": null,
      "outputs": []
    },
    {
      "cell_type": "code",
      "source": [
        "accuracy_score(xgb.predict(new_X_test),y_test)"
      ],
      "metadata": {
        "colab": {
          "base_uri": "https://localhost:8080/"
        },
        "id": "k8VOh60f3H3u",
        "outputId": "bc92d844-c4e1-4981-f5ea-406115a2d769"
      },
      "execution_count": null,
      "outputs": [
        {
          "output_type": "execute_result",
          "data": {
            "text/plain": [
              "0.6647597254004577"
            ]
          },
          "metadata": {},
          "execution_count": 37
        }
      ]
    },
    {
      "cell_type": "code",
      "source": [
        "from sklearn.metrics import roc_curve,auc\n",
        "import matplotlib.pyplot as plt\n",
        "fpr = {}\n",
        "tpr = {}\n",
        "thresh ={}\n",
        "n_class = 8\n",
        "pred_prob = model.predict_proba(new_X_test)\n",
        "for i in range(n_class):    \n",
        "    fpr[i], tpr[i], thresh[i] = roc_curve(y_test, pred_prob[:,i], pos_label=i)\n",
        "    roc_auc = auc(fpr[i],tpr[i])\n",
        "    plt.plot(fpr[i], tpr[i], linestyle='-', label='{}:{}'.format(columns[i],round(roc_auc,3)))\n",
        "# plt.plot(fpr[0], tpr[0], linestyle='-',color='orange', label='Mammalia vs Rest')\n",
        "# plt.plot(fpr[1], tpr[1], linestyle='-',color='green', label='Rice vs Rest')\n",
        "# plt.plot(fpr[2], tpr[2], linestyle='-',color='blue', label='Rodent vs Rest')\n",
        "# plt.plot(fpr[3], tpr[3], linestyle='-',color='red', label='Rumin vs Rest')\n",
        "# plt.plot(fpr[4], tpr[4], linestyle='-',color='brown', label='Sauria vs Rest')\n",
        "# plt.plot(fpr[5], tpr[5], linestyle='-',color='magenta', label='Insect vs Rest')\n",
        "# plt.plot(fpr[6], tpr[6], linestyle='-',color='cyan', label='Human vs Rest')\n",
        "# plt.plot(fpr[7], tpr[7], linestyle='-',color='purple', label='Aves vs Rest')\n",
        "plt.title('Multiclass ROC curve')\n",
        "plt.xlabel('False Positive Rate')\n",
        "plt.ylabel('True Positive rate')\n",
        "plt.legend(loc='best')\n",
        "plt.savefig('Multiclass ROC',dpi=500);  "
      ],
      "metadata": {
        "colab": {
          "base_uri": "https://localhost:8080/",
          "height": 295
        },
        "id": "_q-nXqtt7Smd",
        "outputId": "dd849215-a4a3-4eec-f495-9301625a303c"
      },
      "execution_count": null,
      "outputs": [
        {
          "output_type": "display_data",
          "data": {
            "text/plain": [
              "<Figure size 432x288 with 1 Axes>"
            ],
            "image/png": "[encoded data removed]"
          },
          "metadata": {
            "needs_background": "light"
          }
        }
      ]
    },
    {
      "cell_type": "code",
      "source": [
        "import optuna\n",
        "from sklearn.metrics import accuracy_score\n",
        "from sklearn.ensemble import RandomForestClassifier\n",
        "def objective(trial,data=train,target=test):\n",
        "    \n",
        "    train_x, test_x, train_y, test_y = train_test_split(data, target, test_size=0.1,random_state=42)\n",
        "    param = {\n",
        "        'n_estimators': trial.suggest_int('n_estimators', 50, 400),\n",
        "            'max_depth': trial.suggest_int('max_depth', 3, 20),\n",
        "            'min_samples_split': trial.suggest_int('min_samples_split', 2, 15),\n",
        "            'min_samples_leaf': trial.suggest_int('min_samples_leaf', 2, 15),        \n",
        "    }\n",
        "    model = RandomForestClassifier(**param)  \n",
        "    \n",
        "    model.fit(train_x,train_y)\n",
        "    preds = model.predict(test_x)\n",
        "    \n",
        "    accuracy = accuracy_score(test_y, preds)\n",
        "    \n",
        "    return accuracy\n",
        "\n",
        "study = optuna.create_study(direction='maximize')\n",
        "study.optimize(objective, n_trials=30)\n",
        "print('Number of finished trials:', len(study.trials))\n",
        "print('Best trial:', study.best_trial.params)"
      ],
      "metadata": {
        "colab": {
          "base_uri": "https://localhost:8080/"
        },
        "id": "GjXyXKSi-MJ3",
        "outputId": "b7fa4891-942e-4982-bb2e-f479f79ff565"
      },
      "execution_count": null,
      "outputs": [
        {
          "output_type": "stream",
          "name": "stderr",
          "text": [
            "\u001b[32m[I 2022-10-28 14:43:20,914]\u001b[0m A new study created in memory with name: no-name-3a480982-40dc-4e48-a79d-91195296755b\u001b[0m\n",
            "\u001b[32m[I 2022-10-28 14:43:25,028]\u001b[0m Trial 0 finished with value: 0.6430205949656751 and parameters: {'n_estimators': 268, 'max_depth': 5, 'min_samples_split': 14, 'min_samples_leaf': 5}. Best is trial 0 with value: 0.6430205949656751.\u001b[0m\n",
            "\u001b[32m[I 2022-10-28 14:43:25,589]\u001b[0m Trial 1 finished with value: 0.6018306636155606 and parameters: {'n_estimators': 54, 'max_depth': 3, 'min_samples_split': 4, 'min_samples_leaf': 11}. Best is trial 0 with value: 0.6430205949656751.\u001b[0m\n",
            "\u001b[32m[I 2022-10-28 14:43:26,350]\u001b[0m Trial 2 finished with value: 0.6006864988558352 and parameters: {'n_estimators': 75, 'max_depth': 3, 'min_samples_split': 9, 'min_samples_leaf': 11}. Best is trial 0 with value: 0.6430205949656751.\u001b[0m\n",
            "\u001b[32m[I 2022-10-28 14:43:29,135]\u001b[0m Trial 3 finished with value: 0.6693363844393593 and parameters: {'n_estimators': 81, 'max_depth': 16, 'min_samples_split': 9, 'min_samples_leaf': 3}. Best is trial 3 with value: 0.6693363844393593.\u001b[0m\n",
            "\u001b[32m[I 2022-10-28 14:43:32,808]\u001b[0m Trial 4 finished with value: 0.6167048054919908 and parameters: {'n_estimators': 238, 'max_depth': 4, 'min_samples_split': 15, 'min_samples_leaf': 14}. Best is trial 3 with value: 0.6693363844393593.\u001b[0m\n",
            "\u001b[32m[I 2022-10-28 14:43:39,439]\u001b[0m Trial 5 finished with value: 0.6727688787185355 and parameters: {'n_estimators': 279, 'max_depth': 9, 'min_samples_split': 7, 'min_samples_leaf': 10}. Best is trial 5 with value: 0.6727688787185355.\u001b[0m\n",
            "\u001b[32m[I 2022-10-28 14:43:46,878]\u001b[0m Trial 6 finished with value: 0.6819221967963387 and parameters: {'n_estimators': 223, 'max_depth': 16, 'min_samples_split': 10, 'min_samples_leaf': 3}. Best is trial 6 with value: 0.6819221967963387.\u001b[0m\n",
            "\u001b[32m[I 2022-10-28 14:43:48,779]\u001b[0m Trial 7 finished with value: 0.6784897025171625 and parameters: {'n_estimators': 71, 'max_depth': 19, 'min_samples_split': 4, 'min_samples_leaf': 14}. Best is trial 6 with value: 0.6819221967963387.\u001b[0m\n",
            "\u001b[32m[I 2022-10-28 14:43:50,331]\u001b[0m Trial 8 finished with value: 0.6350114416475973 and parameters: {'n_estimators': 101, 'max_depth': 5, 'min_samples_split': 7, 'min_samples_leaf': 14}. Best is trial 6 with value: 0.6819221967963387.\u001b[0m\n",
            "\u001b[32m[I 2022-10-28 14:43:57,368]\u001b[0m Trial 9 finished with value: 0.6681922196796338 and parameters: {'n_estimators': 260, 'max_depth': 15, 'min_samples_split': 5, 'min_samples_leaf': 13}. Best is trial 6 with value: 0.6819221967963387.\u001b[0m\n",
            "\u001b[32m[I 2022-10-28 14:44:07,159]\u001b[0m Trial 10 finished with value: 0.6807780320366132 and parameters: {'n_estimators': 340, 'max_depth': 12, 'min_samples_split': 11, 'min_samples_leaf': 6}. Best is trial 6 with value: 0.6819221967963387.\u001b[0m\n",
            "\u001b[32m[I 2022-10-28 14:44:17,714]\u001b[0m Trial 11 finished with value: 0.6807780320366132 and parameters: {'n_estimators': 365, 'max_depth': 12, 'min_samples_split': 12, 'min_samples_leaf': 6}. Best is trial 6 with value: 0.6819221967963387.\u001b[0m\n",
            "\u001b[32m[I 2022-10-28 14:44:22,233]\u001b[0m Trial 12 finished with value: 0.6842105263157895 and parameters: {'n_estimators': 156, 'max_depth': 11, 'min_samples_split': 11, 'min_samples_leaf': 2}. Best is trial 12 with value: 0.6842105263157895.\u001b[0m\n",
            "\u001b[32m[I 2022-10-28 14:44:26,473]\u001b[0m Trial 13 finished with value: 0.6784897025171625 and parameters: {'n_estimators': 171, 'max_depth': 9, 'min_samples_split': 12, 'min_samples_leaf': 2}. Best is trial 12 with value: 0.6842105263157895.\u001b[0m\n",
            "\u001b[32m[I 2022-10-28 14:44:32,050]\u001b[0m Trial 14 finished with value: 0.6693363844393593 and parameters: {'n_estimators': 172, 'max_depth': 16, 'min_samples_split': 10, 'min_samples_leaf': 4}. Best is trial 12 with value: 0.6842105263157895.\u001b[0m\n",
            "\u001b[32m[I 2022-10-28 14:44:36,846]\u001b[0m Trial 15 finished with value: 0.683066361556064 and parameters: {'n_estimators': 160, 'max_depth': 20, 'min_samples_split': 13, 'min_samples_leaf': 8}. Best is trial 12 with value: 0.6842105263157895.\u001b[0m\n",
            "\u001b[32m[I 2022-10-28 14:44:41,144]\u001b[0m Trial 16 finished with value: 0.6796338672768879 and parameters: {'n_estimators': 144, 'max_depth': 19, 'min_samples_split': 13, 'min_samples_leaf': 8}. Best is trial 12 with value: 0.6842105263157895.\u001b[0m\n",
            "\u001b[32m[I 2022-10-28 14:44:44,012]\u001b[0m Trial 17 finished with value: 0.6727688787185355 and parameters: {'n_estimators': 127, 'max_depth': 8, 'min_samples_split': 15, 'min_samples_leaf': 8}. Best is trial 12 with value: 0.6842105263157895.\u001b[0m\n",
            "\u001b[32m[I 2022-10-28 14:44:49,856]\u001b[0m Trial 18 finished with value: 0.6704805491990846 and parameters: {'n_estimators': 198, 'max_depth': 14, 'min_samples_split': 13, 'min_samples_leaf': 7}. Best is trial 12 with value: 0.6842105263157895.\u001b[0m\n",
            "\u001b[32m[I 2022-10-28 14:44:56,010]\u001b[0m Trial 19 finished with value: 0.6498855835240275 and parameters: {'n_estimators': 309, 'max_depth': 7, 'min_samples_split': 11, 'min_samples_leaf': 10}. Best is trial 12 with value: 0.6842105263157895.\u001b[0m\n",
            "\u001b[32m[I 2022-10-28 14:45:01,014]\u001b[0m Trial 20 finished with value: 0.6842105263157895 and parameters: {'n_estimators': 137, 'max_depth': 20, 'min_samples_split': 2, 'min_samples_leaf': 2}. Best is trial 12 with value: 0.6842105263157895.\u001b[0m\n",
            "\u001b[32m[I 2022-10-28 14:45:05,911]\u001b[0m Trial 21 finished with value: 0.6899313501144165 and parameters: {'n_estimators': 134, 'max_depth': 20, 'min_samples_split': 2, 'min_samples_leaf': 2}. Best is trial 21 with value: 0.6899313501144165.\u001b[0m\n",
            "\u001b[32m[I 2022-10-28 14:45:10,313]\u001b[0m Trial 22 finished with value: 0.6819221967963387 and parameters: {'n_estimators': 121, 'max_depth': 18, 'min_samples_split': 2, 'min_samples_leaf': 2}. Best is trial 21 with value: 0.6899313501144165.\u001b[0m\n",
            "\u001b[32m[I 2022-10-28 14:45:16,128]\u001b[0m Trial 23 finished with value: 0.6750572082379863 and parameters: {'n_estimators': 203, 'max_depth': 11, 'min_samples_split': 2, 'min_samples_leaf': 4}. Best is trial 21 with value: 0.6899313501144165.\u001b[0m\n",
            "\u001b[32m[I 2022-10-28 14:45:19,805]\u001b[0m Trial 24 finished with value: 0.6842105263157895 and parameters: {'n_estimators': 112, 'max_depth': 13, 'min_samples_split': 3, 'min_samples_leaf': 2}. Best is trial 21 with value: 0.6899313501144165.\u001b[0m\n",
            "\u001b[32m[I 2022-10-28 14:45:24,631]\u001b[0m Trial 25 finished with value: 0.6819221967963387 and parameters: {'n_estimators': 145, 'max_depth': 18, 'min_samples_split': 6, 'min_samples_leaf': 4}. Best is trial 21 with value: 0.6899313501144165.\u001b[0m\n",
            "\u001b[32m[I 2022-10-28 14:45:31,134]\u001b[0m Trial 26 finished with value: 0.6807780320366132 and parameters: {'n_estimators': 187, 'max_depth': 20, 'min_samples_split': 3, 'min_samples_leaf': 3}. Best is trial 21 with value: 0.6899313501144165.\u001b[0m\n",
            "\u001b[32m[I 2022-10-28 14:45:34,538]\u001b[0m Trial 27 finished with value: 0.6750572082379863 and parameters: {'n_estimators': 109, 'max_depth': 18, 'min_samples_split': 3, 'min_samples_leaf': 6}. Best is trial 21 with value: 0.6899313501144165.\u001b[0m\n",
            "\u001b[32m[I 2022-10-28 14:45:38,125]\u001b[0m Trial 28 finished with value: 0.6773455377574371 and parameters: {'n_estimators': 106, 'max_depth': 14, 'min_samples_split': 2, 'min_samples_leaf': 2}. Best is trial 21 with value: 0.6899313501144165.\u001b[0m\n",
            "\u001b[32m[I 2022-10-28 14:45:40,633]\u001b[0m Trial 29 finished with value: 0.6739130434782609 and parameters: {'n_estimators': 88, 'max_depth': 11, 'min_samples_split': 7, 'min_samples_leaf': 5}. Best is trial 21 with value: 0.6899313501144165.\u001b[0m\n"
          ]
        },
        {
          "output_type": "stream",
          "name": "stdout",
          "text": [
            "Number of finished trials: 30\n",
            "Best trial: {'n_estimators': 134, 'max_depth': 20, 'min_samples_split': 2, 'min_samples_leaf': 2}\n"
          ]
        }
      ]
    },
    {
      "cell_type": "code",
      "source": [
        "{'n_estimators': 231, 'max_depth': 20, 'min_samples_split': 2, 'min_samples_leaf': 3}"
      ],
      "metadata": {
        "id": "ybxyxj7wAMHa"
      },
      "execution_count": null,
      "outputs": []
    },
    {
      "cell_type": "code",
      "source": [
        "pip install catboost"
      ],
      "metadata": {
        "colab": {
          "base_uri": "https://localhost:8080/"
        },
        "id": "dzsPVW3H__KP",
        "outputId": "b70791ec-4a4f-4f6f-cd3e-db8695a2e486"
      },
      "execution_count": null,
      "outputs": [
        {
          "output_type": "stream",
          "name": "stdout",
          "text": [
            "Looking in indexes: https://pypi.org/simple, https://us-python.pkg.dev/colab-wheels/public/simple/\n",
            "Collecting catboost\n",
            "  Downloading catboost-1.1-cp37-none-manylinux1_x86_64.whl (76.8 MB)\n",
            "\u001b[K     |████████████████████████████████| 76.8 MB 1.2 MB/s \n",
            "\u001b[?25hRequirement already satisfied: scipy in /usr/local/lib/python3.7/dist-packages (from catboost) (1.7.3)\n",
            "Requirement already satisfied: six in /usr/local/lib/python3.7/dist-packages (from catboost) (1.15.0)\n",
            "Requirement already satisfied: graphviz in /usr/local/lib/python3.7/dist-packages (from catboost) (0.10.1)\n",
            "Requirement already satisfied: numpy>=1.16.0 in /usr/local/lib/python3.7/dist-packages (from catboost) (1.21.6)\n",
            "Requirement already satisfied: matplotlib in /usr/local/lib/python3.7/dist-packages (from catboost) (3.2.2)\n",
            "Requirement already satisfied: pandas>=0.24.0 in /usr/local/lib/python3.7/dist-packages (from catboost) (1.3.5)\n",
            "Requirement already satisfied: plotly in /usr/local/lib/python3.7/dist-packages (from catboost) (5.5.0)\n",
            "Requirement already satisfied: pytz>=2017.3 in /usr/local/lib/python3.7/dist-packages (from pandas>=0.24.0->catboost) (2022.5)\n",
            "Requirement already satisfied: python-dateutil>=2.7.3 in /usr/local/lib/python3.7/dist-packages (from pandas>=0.24.0->catboost) (2.8.2)\n",
            "Requirement already satisfied: kiwisolver>=1.0.1 in /usr/local/lib/python3.7/dist-packages (from matplotlib->catboost) (1.4.4)\n",
            "Requirement already satisfied: pyparsing!=2.0.4,!=2.1.2,!=2.1.6,>=2.0.1 in /usr/local/lib/python3.7/dist-packages (from matplotlib->catboost) (3.0.9)\n",
            "Requirement already satisfied: cycler>=0.10 in /usr/local/lib/python3.7/dist-packages (from matplotlib->catboost) (0.11.0)\n",
            "Requirement already satisfied: typing-extensions in /usr/local/lib/python3.7/dist-packages (from kiwisolver>=1.0.1->matplotlib->catboost) (4.1.1)\n",
            "Requirement already satisfied: tenacity>=6.2.0 in /usr/local/lib/python3.7/dist-packages (from plotly->catboost) (8.1.0)\n",
            "Installing collected packages: catboost\n",
            "Successfully installed catboost-1.1\n"
          ]
        }
      ]
    },
    {
      "cell_type": "code",
      "source": [
        "from catboost import CatBoostClassifier\n",
        "from sklearn.metrics import accuracy_score\n",
        "def objective(trial,data=train ,target=test):\n",
        "    \n",
        "    train_x, test_x, train_y, test_y = train_test_split(data, target, test_size=0.2,random_state=42)\n",
        "    param = {}\n",
        "    param['iterations']= trial.suggest_int('iterations', 50, 300)\n",
        "    param['learning_rate'] = trial.suggest_discrete_uniform(\"learning_rate\", 0.001, 0.02, 0.001)\n",
        "    param['depth'] = trial.suggest_int('depth', 9, 15)\n",
        "    param['l2_leaf_reg'] = trial.suggest_discrete_uniform('l2_leaf_reg', 1.0, 5.5, 0.5)\n",
        "    param['min_child_samples'] = trial.suggest_categorical('min_child_samples', [1, 4, 8, 16, 32])\n",
        "    model2 = CatBoostClassifier(**param)  \n",
        "    model2.fit(train_x,train_y,eval_set=[(test_x,test_y)],early_stopping_rounds=100,verbose=True)\n",
        "    \n",
        "    preds = model2.predict(test_x)\n",
        "    accuracy = accuracy_score(test_y, preds)\n",
        "\n",
        "    return accuracy\n",
        "study = optuna.create_study(direction='maximize')\n",
        "study.optimize(objective, n_trials=5)\n",
        "print('Number of finished trials:', len(study.trials))\n",
        "print('Best trial:', study.best_trial.params)"
      ],
      "metadata": {
        "id": "z6IcBxhF_lVb"
      },
      "execution_count": null,
      "outputs": []
    },
    {
      "cell_type": "code",
      "source": [
        "from lightgbm import LGBMClassifier\n",
        "import optuna\n",
        "from sklearn.metrics import accuracy_score\n",
        "\n",
        "def objective(trial,data=train ,target=test):\n",
        "    \n",
        "    train_x, test_x, train_y, test_y = train_test_split(data, target, test_size=0.2,random_state=42)\n",
        "    param = {\n",
        "          # this parameter means using the GPU when training our model to speedup the training process\n",
        "        'reg_lambda': trial.suggest_loguniform('reg_lambda', 1e-3, 10.0),\n",
        "        'reg_alpha': trial.suggest_loguniform('reg_alpha', 1e-3, 10.0),\n",
        "        'colsample_bytree': trial.suggest_categorical('colsample_bytree', [0.3,0.4,0.5,0.6,0.7,0.8,0.9, 1.0]),\n",
        "        'subsample': trial.suggest_categorical('subsample', [0.4,0.5,0.6,0.7,0.8,1.0]),\n",
        "        'learning_rate': trial.suggest_categorical('learning_rate', [0.008,0.009,0.01,0.012,0.014,0.016,0.018, 0.02]),\n",
        "        'n_estimators': 1000,\n",
        "        'num_leaves': trial.suggest_int('num_leaves', 34, 300),\n",
        "        'min_child_samples':trial.suggest_int('min_child_samples', 100, 500),\n",
        "        'max_depth': trial.suggest_categorical('max_depth', [5,7,9,11,13,15,17,20]),\n",
        "        'random_state': trial.suggest_categorical('random_state', [24, 48,2020]),\n",
        "        'min_child_weight': trial.suggest_int('min_child_weight', 1, 300),\n",
        "    }\n",
        "    model = LGBMClassifier(**param)  \n",
        "    \n",
        "    model.fit(train_x,train_y,eval_set=[(test_x,test_y)],early_stopping_rounds=100,verbose=False)\n",
        "    \n",
        "    preds = model.predict(test_x)\n",
        "    accuracy = accuracy_score(test_y, preds)\n",
        "    return accuracy\n",
        "\n",
        "study = optuna.create_study(direction='maximize')\n",
        "study.optimize(objective, n_trials=20)\n",
        "print('Number of finished trials:', len(study.trials))\n",
        "print('Best trial:', study.best_trial.params)"
      ],
      "metadata": {
        "colab": {
          "base_uri": "https://localhost:8080/"
        },
        "id": "k-0F2ga5-bZl",
        "outputId": "fc1c5b78-2d7b-48aa-a228-d68aaadb2d21"
      },
      "execution_count": null,
      "outputs": [
        {
          "output_type": "stream",
          "name": "stderr",
          "text": [
            "\u001b[32m[I 2022-10-28 12:54:48,741]\u001b[0m A new study created in memory with name: no-name-97190bde-670d-4ede-b208-e5f835a9a12f\u001b[0m\n",
            "\u001b[32m[I 2022-10-28 12:54:57,726]\u001b[0m Trial 0 finished with value: 0.6742987979393246 and parameters: {'reg_lambda': 0.3594501370055152, 'reg_alpha': 0.12769528129109878, 'colsample_bytree': 0.3, 'subsample': 0.7, 'learning_rate': 0.016, 'num_leaves': 187, 'min_child_samples': 498, 'max_depth': 7, 'random_state': 48, 'min_child_weight': 44}. Best is trial 0 with value: 0.6742987979393246.\u001b[0m\n",
            "\u001b[32m[I 2022-10-28 12:55:12,341]\u001b[0m Trial 1 finished with value: 0.6754436176302232 and parameters: {'reg_lambda': 0.5598299300523025, 'reg_alpha': 1.9878042213601834, 'colsample_bytree': 1.0, 'subsample': 0.4, 'learning_rate': 0.014, 'num_leaves': 213, 'min_child_samples': 312, 'max_depth': 5, 'random_state': 24, 'min_child_weight': 127}. Best is trial 1 with value: 0.6754436176302232.\u001b[0m\n",
            "\u001b[32m[I 2022-10-28 12:55:24,488]\u001b[0m Trial 2 finished with value: 0.6720091585575272 and parameters: {'reg_lambda': 0.0011546244658154332, 'reg_alpha': 0.279555062074388, 'colsample_bytree': 0.4, 'subsample': 0.7, 'learning_rate': 0.008, 'num_leaves': 77, 'min_child_samples': 342, 'max_depth': 13, 'random_state': 24, 'min_child_weight': 63}. Best is trial 1 with value: 0.6754436176302232.\u001b[0m\n",
            "\u001b[32m[I 2022-10-28 12:55:32,190]\u001b[0m Trial 3 finished with value: 0.6754436176302232 and parameters: {'reg_lambda': 2.259707793426223, 'reg_alpha': 0.4658248757330489, 'colsample_bytree': 0.4, 'subsample': 1.0, 'learning_rate': 0.02, 'num_leaves': 105, 'min_child_samples': 474, 'max_depth': 5, 'random_state': 2020, 'min_child_weight': 57}. Best is trial 1 with value: 0.6754436176302232.\u001b[0m\n",
            "\u001b[32m[I 2022-10-28 12:55:40,605]\u001b[0m Trial 4 finished with value: 0.676588437321122 and parameters: {'reg_lambda': 2.3207641142849806, 'reg_alpha': 0.21480465000174595, 'colsample_bytree': 0.4, 'subsample': 1.0, 'learning_rate': 0.016, 'num_leaves': 240, 'min_child_samples': 282, 'max_depth': 5, 'random_state': 24, 'min_child_weight': 13}. Best is trial 4 with value: 0.676588437321122.\u001b[0m\n",
            "\u001b[32m[I 2022-10-28 12:55:50,149]\u001b[0m Trial 5 finished with value: 0.6502575844304522 and parameters: {'reg_lambda': 0.06552526922976039, 'reg_alpha': 2.146271982997099, 'colsample_bytree': 0.7, 'subsample': 0.8, 'learning_rate': 0.008, 'num_leaves': 197, 'min_child_samples': 182, 'max_depth': 17, 'random_state': 48, 'min_child_weight': 283}. Best is trial 4 with value: 0.676588437321122.\u001b[0m\n",
            "\u001b[32m[I 2022-10-28 12:55:58,671]\u001b[0m Trial 6 finished with value: 0.656554092730395 and parameters: {'reg_lambda': 0.09397111926866912, 'reg_alpha': 0.05822187584517178, 'colsample_bytree': 0.6, 'subsample': 0.6, 'learning_rate': 0.012, 'num_leaves': 243, 'min_child_samples': 397, 'max_depth': 13, 'random_state': 48, 'min_child_weight': 289}. Best is trial 4 with value: 0.676588437321122.\u001b[0m\n",
            "\u001b[32m[I 2022-10-28 12:56:09,398]\u001b[0m Trial 7 finished with value: 0.6622781911848884 and parameters: {'reg_lambda': 0.02985151101181143, 'reg_alpha': 0.7017499476478367, 'colsample_bytree': 0.6, 'subsample': 1.0, 'learning_rate': 0.014, 'num_leaves': 198, 'min_child_samples': 203, 'max_depth': 15, 'random_state': 48, 'min_child_weight': 170}. Best is trial 4 with value: 0.676588437321122.\u001b[0m\n",
            "\u001b[32m[I 2022-10-28 12:56:16,410]\u001b[0m Trial 8 finished with value: 0.6611333714939897 and parameters: {'reg_lambda': 0.6602109496943995, 'reg_alpha': 0.13680724472382816, 'colsample_bytree': 0.4, 'subsample': 1.0, 'learning_rate': 0.018, 'num_leaves': 182, 'min_child_samples': 310, 'max_depth': 5, 'random_state': 24, 'min_child_weight': 238}. Best is trial 4 with value: 0.676588437321122.\u001b[0m\n",
            "\u001b[32m[I 2022-10-28 12:56:40,800]\u001b[0m Trial 9 finished with value: 0.683457355466514 and parameters: {'reg_lambda': 2.415379470644272, 'reg_alpha': 0.008629094690906508, 'colsample_bytree': 0.9, 'subsample': 0.4, 'learning_rate': 0.01, 'num_leaves': 279, 'min_child_samples': 225, 'max_depth': 20, 'random_state': 2020, 'min_child_weight': 5}. Best is trial 9 with value: 0.683457355466514.\u001b[0m\n",
            "\u001b[32m[I 2022-10-28 12:56:57,284]\u001b[0m Trial 10 finished with value: 0.6702919290211792 and parameters: {'reg_lambda': 7.543237173584326, 'reg_alpha': 0.0037563814031755143, 'colsample_bytree': 0.9, 'subsample': 0.4, 'learning_rate': 0.01, 'num_leaves': 286, 'min_child_samples': 138, 'max_depth': 20, 'random_state': 2020, 'min_child_weight': 133}. Best is trial 9 with value: 0.683457355466514.\u001b[0m\n",
            "\u001b[32m[I 2022-10-28 12:57:19,757]\u001b[0m Trial 11 finished with value: 0.6828849456210647 and parameters: {'reg_lambda': 6.191566272614737, 'reg_alpha': 0.010456399721385314, 'colsample_bytree': 0.8, 'subsample': 0.5, 'learning_rate': 0.016, 'num_leaves': 300, 'min_child_samples': 223, 'max_depth': 11, 'random_state': 2020, 'min_child_weight': 2}. Best is trial 9 with value: 0.683457355466514.\u001b[0m\n",
            "\u001b[32m[I 2022-10-28 12:57:40,412]\u001b[0m Trial 12 finished with value: 0.6880366342301087 and parameters: {'reg_lambda': 9.716150942358874, 'reg_alpha': 0.007685506499754665, 'colsample_bytree': 0.8, 'subsample': 0.5, 'learning_rate': 0.009, 'num_leaves': 292, 'min_child_samples': 232, 'max_depth': 11, 'random_state': 2020, 'min_child_weight': 7}. Best is trial 12 with value: 0.6880366342301087.\u001b[0m\n",
            "\u001b[32m[I 2022-10-28 12:57:58,674]\u001b[0m Trial 13 finished with value: 0.6777332570120206 and parameters: {'reg_lambda': 9.423599555081264, 'reg_alpha': 0.0011501179592957676, 'colsample_bytree': 0.8, 'subsample': 0.5, 'learning_rate': 0.009, 'num_leaves': 263, 'min_child_samples': 117, 'max_depth': 11, 'random_state': 2020, 'min_child_weight': 95}. Best is trial 12 with value: 0.6880366342301087.\u001b[0m\n",
            "\u001b[32m[I 2022-10-28 12:58:13,459]\u001b[0m Trial 14 finished with value: 0.665140240412135 and parameters: {'reg_lambda': 0.010245327801385063, 'reg_alpha': 0.0212996410520717, 'colsample_bytree': 0.9, 'subsample': 0.4, 'learning_rate': 0.01, 'num_leaves': 133, 'min_child_samples': 253, 'max_depth': 20, 'random_state': 2020, 'min_child_weight': 175}. Best is trial 12 with value: 0.6880366342301087.\u001b[0m\n",
            "\u001b[32m[I 2022-10-28 12:58:26,854]\u001b[0m Trial 15 finished with value: 0.6805953062392673 and parameters: {'reg_lambda': 1.7951822821420251, 'reg_alpha': 0.005125759101652156, 'colsample_bytree': 0.5, 'subsample': 0.5, 'learning_rate': 0.009, 'num_leaves': 148, 'min_child_samples': 170, 'max_depth': 9, 'random_state': 2020, 'min_child_weight': 95}. Best is trial 12 with value: 0.6880366342301087.\u001b[0m\n",
            "\u001b[32m[I 2022-10-28 12:58:51,687]\u001b[0m Trial 16 finished with value: 0.6851745850028621 and parameters: {'reg_lambda': 1.6167517539651215, 'reg_alpha': 0.0010503391159834635, 'colsample_bytree': 0.8, 'subsample': 0.6, 'learning_rate': 0.01, 'num_leaves': 269, 'min_child_samples': 244, 'max_depth': 11, 'random_state': 2020, 'min_child_weight': 27}. Best is trial 12 with value: 0.6880366342301087.\u001b[0m\n",
            "\u001b[32m[I 2022-10-28 12:59:13,335]\u001b[0m Trial 17 finished with value: 0.6811677160847167 and parameters: {'reg_lambda': 0.2550814444346806, 'reg_alpha': 0.0012737532874517181, 'colsample_bytree': 0.8, 'subsample': 0.6, 'learning_rate': 0.009, 'num_leaves': 237, 'min_child_samples': 264, 'max_depth': 11, 'random_state': 2020, 'min_child_weight': 39}. Best is trial 12 with value: 0.6880366342301087.\u001b[0m\n",
            "\u001b[32m[I 2022-10-28 12:59:28,968]\u001b[0m Trial 18 finished with value: 0.6823125357756153 and parameters: {'reg_lambda': 0.982761418989042, 'reg_alpha': 0.029627617843334505, 'colsample_bytree': 0.8, 'subsample': 0.6, 'learning_rate': 0.02, 'num_leaves': 42, 'min_child_samples': 370, 'max_depth': 11, 'random_state': 2020, 'min_child_weight': 90}. Best is trial 12 with value: 0.6880366342301087.\u001b[0m\n",
            "\u001b[32m[I 2022-10-28 12:59:41,001]\u001b[0m Trial 19 finished with value: 0.6628506010303378 and parameters: {'reg_lambda': 5.269436745475809, 'reg_alpha': 0.002767821105504117, 'colsample_bytree': 0.8, 'subsample': 0.8, 'learning_rate': 0.012, 'num_leaves': 257, 'min_child_samples': 420, 'max_depth': 11, 'random_state': 2020, 'min_child_weight': 204}. Best is trial 12 with value: 0.6880366342301087.\u001b[0m\n"
          ]
        },
        {
          "output_type": "stream",
          "name": "stdout",
          "text": [
            "Number of finished trials: 20\n",
            "Best trial: {'reg_lambda': 9.716150942358874, 'reg_alpha': 0.007685506499754665, 'colsample_bytree': 0.8, 'subsample': 0.5, 'learning_rate': 0.009, 'num_leaves': 292, 'min_child_samples': 232, 'max_depth': 11, 'random_state': 2020, 'min_child_weight': 7}\n"
          ]
        }
      ]
    },
    {
      "cell_type": "code",
      "source": [
        "from tensorflow.keras.losses import SparseCategoricalCrossentropy\n",
        "from tensorflow.keras.layers import Dense,Dropout,BatchNormalization\n",
        "from tensorflow.keras.models import Sequential\n",
        "from tensorflow.keras.callbacks import EarlyStopping\n",
        "from tensorflow.keras.layers import LeakyReLU\n",
        "from tensorflow.keras.models import Model,load_model\n",
        "from tensorflow.keras.layers import Input\n"
      ],
      "metadata": {
        "id": "lp5ANJ0ilT0G"
      },
      "execution_count": null,
      "outputs": []
    },
    {
      "cell_type": "code",
      "source": [
        "n_inputs = 61\n",
        "\n",
        "input_data_shape= Input(shape=(n_inputs,))\n",
        "\n",
        "encoder= Dense(n_inputs*2)(input_data_shape)\n",
        "encoder = BatchNormalization()(encoder)\n",
        "encoder= LeakyReLU()(encoder)\n",
        "\n",
        "encoder= Dense(n_inputs)(encoder)\n",
        "encoder= BatchNormalization()(encoder)\n",
        "encoder= LeakyReLU()(encoder)\n",
        "\n",
        "n_bottleneck = round(float(n_inputs) / 2.0)\n",
        "bottleneck = Dense(n_bottleneck)(encoder)\n",
        "\n",
        "decoder = Dense(n_inputs)(bottleneck)\n",
        "decoder = BatchNormalization()(decoder)\n",
        "decoder = LeakyReLU()(decoder)\n",
        "\n",
        "decoder = Dense(n_inputs*2)(decoder)\n",
        "decoder = BatchNormalization()(decoder)\n",
        "decoder = LeakyReLU()(decoder)"
      ],
      "metadata": {
        "id": "Br_-6-jh5UMr"
      },
      "execution_count": null,
      "outputs": []
    },
    {
      "cell_type": "code",
      "source": [
        "output = Dense(n_inputs, activation='relu')(decoder)\n",
        "\n",
        "model = Model(inputs=input_data_shape, outputs=output)\n",
        "\n",
        "model.compile(optimizer='adam',loss='mse')"
      ],
      "metadata": {
        "id": "u-5jJhQz5WM-"
      },
      "execution_count": null,
      "outputs": []
    },
    {
      "cell_type": "code",
      "source": [
        "es = EarlyStopping(monitor='val_loss', mode='min',patience = 5)\n",
        "history = model.fit(X_resampled, X_resampled, epochs=50, batch_size=16, validation_data=(X_test,X_test),callbacks=[es])"
      ],
      "metadata": {
        "colab": {
          "base_uri": "https://localhost:8080/"
        },
        "id": "wuQv5b5m5YTS",
        "outputId": "661d5010-19f3-4107-c45b-5f6aa976ad06"
      },
      "execution_count": null,
      "outputs": [
        {
          "output_type": "stream",
          "name": "stdout",
          "text": [
            "Epoch 1/50\n",
            "1747/1747 [==============================] - 19s 9ms/step - loss: 132.2820 - val_loss: 8.1980\n",
            "Epoch 2/50\n",
            "1747/1747 [==============================] - 14s 8ms/step - loss: 14.6115 - val_loss: 5.8288\n",
            "Epoch 3/50\n",
            "1747/1747 [==============================] - 9s 5ms/step - loss: 13.1081 - val_loss: 6.5462\n",
            "Epoch 4/50\n",
            "1747/1747 [==============================] - 8s 5ms/step - loss: 11.7093 - val_loss: 5.9237\n",
            "Epoch 5/50\n",
            "1747/1747 [==============================] - 9s 5ms/step - loss: 10.8630 - val_loss: 4.7997\n",
            "Epoch 6/50\n",
            "1747/1747 [==============================] - 9s 5ms/step - loss: 9.9646 - val_loss: 6.3121\n",
            "Epoch 7/50\n",
            "1747/1747 [==============================] - 8s 5ms/step - loss: 9.3521 - val_loss: 4.0253\n",
            "Epoch 8/50\n",
            "1747/1747 [==============================] - 9s 5ms/step - loss: 9.2288 - val_loss: 5.8348\n",
            "Epoch 9/50\n",
            "1747/1747 [==============================] - 8s 5ms/step - loss: 8.5044 - val_loss: 4.5011\n",
            "Epoch 10/50\n",
            "1747/1747 [==============================] - 8s 5ms/step - loss: 8.3843 - val_loss: 5.1477\n",
            "Epoch 11/50\n",
            "1747/1747 [==============================] - 10s 6ms/step - loss: 7.8785 - val_loss: 4.9942\n",
            "Epoch 12/50\n",
            "1747/1747 [==============================] - 10s 6ms/step - loss: 7.2234 - val_loss: 2.7328\n",
            "Epoch 13/50\n",
            "1747/1747 [==============================] - 8s 5ms/step - loss: 7.1148 - val_loss: 3.7444\n",
            "Epoch 14/50\n",
            "1747/1747 [==============================] - 8s 5ms/step - loss: 6.9553 - val_loss: 5.5441\n",
            "Epoch 15/50\n",
            "1747/1747 [==============================] - 9s 5ms/step - loss: 6.7411 - val_loss: 2.8619\n",
            "Epoch 16/50\n",
            "1747/1747 [==============================] - 8s 5ms/step - loss: 6.3941 - val_loss: 3.0897\n",
            "Epoch 17/50\n",
            "1747/1747 [==============================] - 8s 5ms/step - loss: 6.2250 - val_loss: 3.6882\n"
          ]
        }
      ]
    },
    {
      "cell_type": "code",
      "source": [
        "encoder = Model(inputs=input_data_shape, outputs=bottleneck)\n",
        "X_train_encoder = encoder.predict(X_resampled)\n",
        "X_test_encoder = encoder.predict(X_test)"
      ],
      "metadata": {
        "colab": {
          "base_uri": "https://localhost:8080/"
        },
        "id": "jvwENHsm5ar0",
        "outputId": "9f734034-3f78-4c04-8892-aec7a24c20ab"
      },
      "execution_count": null,
      "outputs": [
        {
          "output_type": "stream",
          "name": "stdout",
          "text": [
            "874/874 [==============================] - 1s 1ms/step\n",
            "37/37 [==============================] - 0s 1ms/step\n"
          ]
        }
      ]
    },
    {
      "cell_type": "code",
      "source": [
        "new_X_train = np.concatenate([X_resampled.values,pca_data,X_train_encoder],axis=1)\n",
        "new_X_test = np.concatenate([X_test.values,pca_test,X_test_encoder],axis=1)"
      ],
      "metadata": {
        "id": "5meWDUJxCrCR"
      },
      "execution_count": null,
      "outputs": []
    },
    {
      "cell_type": "code",
      "source": [
        "new_X_train_2 = np.concatenate([X_train.values,pca_data,X_train_encoder],axis=1)\n",
        "new_X_test_2 = np.concatenate([X_test.values,pca_test,X_test_encoder],axis=1)"
      ],
      "metadata": {
        "id": "bAVJ7nbMDApj"
      },
      "execution_count": null,
      "outputs": []
    },
    {
      "cell_type": "code",
      "source": [
        "bottleneck"
      ],
      "metadata": {
        "id": "V6cOlHb0NHau",
        "colab": {
          "base_uri": "https://localhost:8080/"
        },
        "outputId": "2b164ac3-21c5-414c-fcfe-226695e924be"
      },
      "execution_count": null,
      "outputs": [
        {
          "output_type": "execute_result",
          "data": {
            "text/plain": [
              "<KerasTensor: shape=(None, 30) dtype=float32 (created by layer 'dense_2')>"
            ]
          },
          "metadata": {},
          "execution_count": 4
        }
      ]
    },
    {
      "cell_type": "code",
      "source": [],
      "metadata": {
        "id": "OjGEzDPX1y2M"
      },
      "execution_count": null,
      "outputs": []
    }
  ]
}